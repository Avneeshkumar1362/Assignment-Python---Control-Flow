{
 "cells": [
  {
   "cell_type": "markdown",
   "id": "fa580794-f204-4625-8758-c6468d35f0d6",
   "metadata": {},
   "source": [
    "# ***Control Flow Assignment Questions***:\n",
    "\n",
    "----\n",
    "----"
   ]
  },
  {
   "cell_type": "markdown",
   "id": "b761b649-cda8-428d-bc74-549bf34c9c45",
   "metadata": {},
   "source": [
    "- ### ***Basic If-Else Statements***:\n"
   ]
  },
  {
   "cell_type": "markdown",
   "id": "29b0a32c-8e78-4851-8397-8e85c3af2877",
   "metadata": {},
   "source": [
    "### 1. Write a Python program to check if a given number is positive or negative."
   ]
  },
  {
   "cell_type": "code",
   "execution_count": 4,
   "id": "de218707-0d40-41b0-9d08-c07ee2c97b65",
   "metadata": {},
   "outputs": [
    {
     "name": "stdin",
     "output_type": "stream",
     "text": [
      "enter the number 10\n"
     ]
    },
    {
     "name": "stdout",
     "output_type": "stream",
     "text": [
      "number is possitive\n"
     ]
    }
   ],
   "source": [
    "given_number=int(input(\"enter the number\"))\n",
    "\n",
    "if given_number<=0:\n",
    "    print(\"enterd number is negative \")\n",
    "    \n",
    "else:\n",
    "    print(\"number is possitive\")"
   ]
  },
  {
   "cell_type": "markdown",
   "id": "2aaba711-e1db-4fb2-99f8-96ea9394b287",
   "metadata": {},
   "source": [
    "- we ask the user input that he want to check number is poissitive or not.\n",
    "- use the ` if given_number<=0:`: to check the number is negative if number is negative then print the number is negative  .\n",
    "- use the `else statements `: to check the number is possitive if number is possitive then print the number is possitive.\n",
    "- use the print statements to print the number is possitive or not."
   ]
  },
  {
   "cell_type": "markdown",
   "id": "cdd3a5d3-75cb-4ca7-a429-19146caab8cf",
   "metadata": {},
   "source": [
    "### 2. Create a program that determines if a person is eligible to vote based on their age."
   ]
  },
  {
   "cell_type": "code",
   "execution_count": 3,
   "id": "b0596471-5fed-4aaa-bc0e-f0701b205c34",
   "metadata": {},
   "outputs": [
    {
     "name": "stdin",
     "output_type": "stream",
     "text": [
      "what is your age 20\n"
     ]
    },
    {
     "name": "stdout",
     "output_type": "stream",
     "text": [
      "user is elligibe for vote\n"
     ]
    }
   ],
   "source": [
    "\n",
    "### ask the user input \n",
    "eligibe_to_bote_age=int(input(\"what is your age\"))\n",
    "if eligibe_to_bote_age>=18:\n",
    "    print(\"user is elligibe for vote\")\n",
    "    \n",
    "else:\n",
    "    print(\"user is not eligible for vote\")\n",
    "    "
   ]
  },
  {
   "cell_type": "markdown",
   "id": "9a51aa59-6f7e-4f2e-8dd1-c3490f61328d",
   "metadata": {},
   "source": [
    "- we ask the users to what is your age .\n",
    "- we create the critaria of age if user age is grater than 18 then he'll only eligible for vote  .\n",
    "- we use the else statements if user age is not grater than 18 or equal to 18 , user is not eligible for the vote.\n"
   ]
  },
  {
   "cell_type": "markdown",
   "id": "7ae34610-d104-4e06-892b-1e2a63ef2564",
   "metadata": {},
   "source": [
    "### 3. Develop a program to find the maximum of two numbers using if-else statements."
   ]
  },
  {
   "cell_type": "code",
   "execution_count": 38,
   "id": "947223cf-52e8-4235-9507-0aaff3461fe6",
   "metadata": {},
   "outputs": [
    {
     "name": "stdout",
     "output_type": "stream",
     "text": [
      "largest number is num2: 500000\n"
     ]
    }
   ],
   "source": [
    "num1=500\n",
    "num2=500000\n",
    "if (num1>=num2) and (num1>=num2):\n",
    "    largest =num1\n",
    "    print(\"largest number is num1:\",num1)\n",
    "else:\n",
    "    largest=num2\n",
    "    print(\"largest number is num2:\",num2)"
   ]
  },
  {
   "cell_type": "markdown",
   "id": "35023c79-6493-4603-a12b-aafbae0c79c7",
   "metadata": {},
   "source": [
    "- first of all we create the to number variable num1 and num2 that stores the inteser value that we want to compare b/w num1 and num2 to find the maximum of numbers .\n",
    "- we use the if statements to check the b/w num1 and num2 who is gratest one .\n",
    "- if num1 is gratest in this situation if condition only work if not gratest then, else statements comes into picture .\n",
    "- print statments use the print tha statements what is gratest."
   ]
  },
  {
   "cell_type": "markdown",
   "id": "aec49c11-1260-4dec-b12f-8c10fe472b8b",
   "metadata": {},
   "source": [
    "### 4. Write a Python script to classify a given year as a leap year or not./\n"
   ]
  },
  {
   "cell_type": "code",
   "execution_count": 101,
   "id": "5f73d871-8750-4e98-b26e-7dc10f524c66",
   "metadata": {},
   "outputs": [
    {
     "name": "stdin",
     "output_type": "stream",
     "text": [
      "enter year to be checked 2023\n"
     ]
    },
    {
     "name": "stdout",
     "output_type": "stream",
     "text": [
      "year is not a leap year\n"
     ]
    }
   ],
   "source": [
    "year=int(input(\"enter year to be checked\"))\n",
    "if year % 4==0:\n",
    "    print(\"year is leap year\")\n",
    "    \n",
    "elif year % 100==0:\n",
    "    print(\"year is leap year\")\n",
    "    \n",
    "elif year % 400==0:\n",
    "    print(\"year is a leap year\")\n",
    "    \n",
    "else:\n",
    "    print(\"year is not a leap year\")"
   ]
  },
  {
   "cell_type": "markdown",
   "id": "7aa47c4b-4947-4e3b-8b2b-fa0c55299390",
   "metadata": {},
   "source": [
    "- first of all we ask the users year that he wants to check.\n",
    "- we use the if statements `if year % 4==0:`: then print the year is a leap year.\n",
    "- then we use the elif statements to check the multiple condition.\n"
   ]
  },
  {
   "cell_type": "markdown",
   "id": "40d83bf8-a911-48f4-9a5b-fb2dec681ae7",
   "metadata": {},
   "source": [
    "### 5. Create a program that checks whether a character is a vowel or a consonant."
   ]
  },
  {
   "cell_type": "code",
   "execution_count": 47,
   "id": "af9634a3-dc59-4516-bad7-f00a531268b1",
   "metadata": {},
   "outputs": [
    {
     "name": "stdin",
     "output_type": "stream",
     "text": [
      "enter the characters a\n"
     ]
    },
    {
     "name": "stdout",
     "output_type": "stream",
     "text": [
      "given characters is in a vowels\n"
     ]
    }
   ],
   "source": [
    "vowels_char=['a','e','i','o','u','A','E','I','O','U']\n",
    "\n",
    "gives_the_char=input(\"enter the characters\")\n",
    "\n",
    "if gives_the_char in vowels_char:\n",
    "    print(\"given characters is in a vowels\")\n",
    "else:\n",
    "    print(\"given char is in a consonant\")"
   ]
  },
  {
   "cell_type": "markdown",
   "id": "5ba98e28-5818-4526-8aed-f2d88a7f0bb2",
   "metadata": {},
   "source": [
    "- we create the list of is vowels.\n",
    "- we use the if statements to check the char in vowels if char is not in vowels then ,else comes into a picture .\n",
    "- we use the print statements to print tha given char in vowels or consoltants."
   ]
  },
  {
   "cell_type": "markdown",
   "id": "19ae9a90-3264-437f-91c0-7cdf99c7ab75",
   "metadata": {},
   "source": [
    "### 6. Implement a program to determine whether a given number is even or odd."
   ]
  },
  {
   "cell_type": "code",
   "execution_count": 53,
   "id": "ac94cbf0-32d8-40d5-94ee-48667850109f",
   "metadata": {},
   "outputs": [
    {
     "name": "stdin",
     "output_type": "stream",
     "text": [
      "enter the numbers 10\n"
     ]
    },
    {
     "name": "stdout",
     "output_type": "stream",
     "text": [
      "given numbers is even\n"
     ]
    }
   ],
   "source": [
    "given_numbers=int(input(\"enter the numbers\"))\n",
    "\n",
    "if given_number%2==0:\n",
    "    print(\"given numbers is even\")\n",
    "else:\n",
    "    print(\"given numbers is odd\")"
   ]
  },
  {
   "cell_type": "markdown",
   "id": "b3d4c349-1277-4f09-844e-731d52a52018",
   "metadata": {},
   "source": [
    "- we ask the user input that he want to check perticular number is even or odd.\n",
    "- we use the if statements to check the given number is even if given number is not even then else statements comes into a picture.\n"
   ]
  },
  {
   "cell_type": "markdown",
   "id": "b61f6121-09b2-410d-ad02-fbd3b99ac102",
   "metadata": {},
   "source": [
    "### 7. Write a Python function to calculate the absolute value of a number without using the `abs()` function."
   ]
  },
  {
   "cell_type": "code",
   "execution_count": 113,
   "id": "8687a933-a93d-4911-85c6-eb8a3abb63b0",
   "metadata": {},
   "outputs": [
    {
     "name": "stdin",
     "output_type": "stream",
     "text": [
      "enter the number 70\n"
     ]
    },
    {
     "name": "stdout",
     "output_type": "stream",
     "text": [
      "70\n"
     ]
    }
   ],
   "source": [
    "given_num=int(input(\"enter the number\"))\n",
    "if given_num>=0:\n",
    "    print(given_num)\n",
    "              \n",
    "else:\n",
    "    print(-given_num)"
   ]
  },
  {
   "cell_type": "markdown",
   "id": "66861786-0c19-4295-bb9f-1eb860c0aeee",
   "metadata": {},
   "source": [
    "- we ask the  user input that he want to check absulute value of perticuler number.\n",
    "- we use the if statements if given number is grater than or equal to the zero then print given number as it is .\n",
    "- we use the else statements if given number is lass than zero then it will convert into the possitive number."
   ]
  },
  {
   "cell_type": "markdown",
   "id": "1ac6d56b-82bf-48bc-bd28-cca3b41a64ea",
   "metadata": {},
   "source": [
    "### 8. Develop a program that determines the largest of three given numbers using if-else statements."
   ]
  },
  {
   "cell_type": "code",
   "execution_count": 55,
   "id": "0d6acc93-33a6-401e-9bdc-26a2c8172a4a",
   "metadata": {},
   "outputs": [
    {
     "name": "stdout",
     "output_type": "stream",
     "text": [
      "gratest number is num2: 60\n"
     ]
    }
   ],
   "source": [
    "num1=20\n",
    "num2=60\n",
    "num3=50\n",
    "\n",
    "if (num1>=num2) and (num1>=num3):\n",
    "    gratest_num= num1\n",
    "    print(\"gratest number is num1:\",num1)\n",
    "    \n",
    "elif (num2>=num1) and (num2>=num3):\n",
    "    gratest_num=num2\n",
    "    print(\"gratest number is num2:\",num2)\n",
    "    \n",
    "else:\n",
    "    gratest_num=num3\n",
    "    print(\"gratest number is num3:\",num3)"
   ]
  },
  {
   "cell_type": "markdown",
   "id": "95f5e818-f3f2-4abc-bd42-96c2472ec884",
   "metadata": {},
   "source": [
    "- we create the three variables num1,num2 and num3 that stores the three inteser values .\n",
    "- we use the if and elif statements to compare the values b/w num1,num2 and num3.\n",
    "- then, print the gratest value ."
   ]
  },
  {
   "cell_type": "markdown",
   "id": "160a364d-8929-4665-8d21-476bad5fcff6",
   "metadata": {},
   "source": [
    "### 9. Create a program that checks if a given string is a palindrome."
   ]
  },
  {
   "cell_type": "code",
   "execution_count": 140,
   "id": "a9da3fe0-b6c5-48ca-b0fe-d9fa148b564c",
   "metadata": {},
   "outputs": [],
   "source": [
    "\n",
    "def check_string_palindrom(string):\n",
    "    if string==string[::-1]:\n",
    "        print(\"given string is palindrom\")\n",
    "        \n",
    "    else:\n",
    "        print(\"given string is not a palindrom\")\n"
   ]
  },
  {
   "cell_type": "code",
   "execution_count": 144,
   "id": "d837a24e-01e0-420e-b5f4-a54be3980326",
   "metadata": {},
   "outputs": [
    {
     "name": "stdout",
     "output_type": "stream",
     "text": [
      "given string is palindrom\n"
     ]
    }
   ],
   "source": [
    "check_string_palindrom(\"madam\")"
   ]
  },
  {
   "cell_type": "code",
   "execution_count": 145,
   "id": "a936060c-3cfb-4046-a6bf-c32a3184813b",
   "metadata": {},
   "outputs": [
    {
     "name": "stdout",
     "output_type": "stream",
     "text": [
      "given string is not a palindrom\n"
     ]
    }
   ],
   "source": [
    "check_string_palindrom(\"avneesh\")"
   ]
  },
  {
   "cell_type": "markdown",
   "id": "d6a761b8-b4f3-40bb-9c16-ae911fc7f1b9",
   "metadata": {},
   "source": [
    "- we define the function function name is check_string_palindrom that takes one arguments name string that we want to check the string is palindrom or not.\n",
    "- we use `if string==string[::-1]:`:in this statements we check string is equal to the reverse of the string or not ,if string is equal to the reverse of the string then print the string is a palindrom else not."
   ]
  },
  {
   "cell_type": "markdown",
   "id": "d708a920-b01a-4440-b29a-9fa39335fe03",
   "metadata": {},
   "source": [
    "### 10. Write a Python program to calculate the grade based on a student's score."
   ]
  },
  {
   "cell_type": "code",
   "execution_count": 69,
   "id": "3134ecdf-0837-443b-b48a-da8e8cc04324",
   "metadata": {},
   "outputs": [
    {
     "name": "stdin",
     "output_type": "stream",
     "text": [
      "enter the student number 80\n"
     ]
    },
    {
     "name": "stdout",
     "output_type": "stream",
     "text": [
      "excelent performance your grade is A\n"
     ]
    }
   ],
   "source": [
    "student_score=int(input(\"enter the student number\"))\n",
    "if student_score>=90:\n",
    "    print(\"excelent performance your grade is A+\")\n",
    "elif student_score>=80:\n",
    "    print(\"excelent performance your grade is A\")\n",
    "elif student_score>=70:\n",
    "    print(\"excelent performance your grade is B+\")\n",
    "elif student_score>=60:\n",
    "    print(\"excelent performance your grade is B\")\n",
    "    \n",
    "elif student_score >=50:\n",
    "    print(\"excelent performance your grade is c\")\n",
    "    \n",
    "else:\n",
    "    student_score<50\n",
    "    print(\"student will be  fail\")"
   ]
  },
  {
   "cell_type": "markdown",
   "id": "bf96c8d1-cf77-45a6-a5e9-9ed9ef09f54c",
   "metadata": {},
   "source": [
    "- we define the student_score is =75.\n",
    "- we use the if statements to check if number score by student is grater or equal to 90 then print grade A+.\n",
    "- we use elif statements to check if number score by student is grater or equal to 80 then print grade A.\n",
    "- we use another elif statements to check if number score by student is grater or equal to 70 then print grade B+.\n",
    "- we use another elif statements to check if number score by student is grater or equal to 60 then print grade B.\n",
    "- we use another elif statements to check if number score by student is grater or equal to 50 then print grade C.\n",
    "- we use else statements if number score by the student is less than 50 then print student will be fail."
   ]
  },
  {
   "cell_type": "markdown",
   "id": "d8b679f3-29c1-4b91-a459-2b91a735167f",
   "metadata": {},
   "source": [
    "- ### ***Nested If-Else Statements***:"
   ]
  },
  {
   "cell_type": "markdown",
   "id": "7125d5f5-24d6-4ef8-a17c-3be6ee4b7a23",
   "metadata": {},
   "source": [
    "### 11. Write a program to find the largest among three numbers using nested if-else statements."
   ]
  },
  {
   "cell_type": "code",
   "execution_count": 159,
   "id": "902c4e72-c33f-4986-b32f-93fbd1905b54",
   "metadata": {},
   "outputs": [
    {
     "name": "stdin",
     "output_type": "stream",
     "text": [
      "Enter A:  10\n",
      "Enter B:  455\n",
      "Enter C:  500\n"
     ]
    },
    {
     "name": "stdout",
     "output_type": "stream",
     "text": [
      "Greatest number is = 500\n"
     ]
    }
   ],
   "source": [
    "# input three integer numbers \n",
    "a=int(input(\"Enter A: \"))\n",
    "b=int(input(\"Enter B: \"))\n",
    "c=int(input(\"Enter C: \"))\n",
    "\n",
    "# conditions to find largest \n",
    "if a>b:\n",
    "    if a>c:\n",
    "        g=a\n",
    "    else:\n",
    "        g=c\n",
    "else:\n",
    "    if b>c:\n",
    "        g=b\n",
    "    else:\n",
    "        g=c\n",
    "\n",
    "# print the largest number \n",
    "print(\"Greatest number is =\",g)"
   ]
  },
  {
   "cell_type": "markdown",
   "id": "7ab29546-9a62-46f5-8259-8cd4a6188a62",
   "metadata": {},
   "source": [
    "- we ask user there inteser value a,b,c that he want to check the gratest value .\n",
    "- we use the nested if else statements to find the gratest inteser value b/w them.\n",
    "- we use the print statements to print the gratest value."
   ]
  },
  {
   "cell_type": "markdown",
   "id": "e8bdc0a0-9fb4-48ac-aa2b-6e051e13472d",
   "metadata": {},
   "source": [
    "### 12. Implement a program to determine if a triangle is equilateral, isosceles, or scalene."
   ]
  },
  {
   "cell_type": "code",
   "execution_count": 2,
   "id": "519dd5a7-4d20-48ed-a28d-58d53b8ad1b5",
   "metadata": {},
   "outputs": [
    {
     "name": "stdout",
     "output_type": "stream",
     "text": [
      "input length of the triangle sides\n"
     ]
    },
    {
     "name": "stdin",
     "output_type": "stream",
     "text": [
      "a:   12\n",
      "b:   21\n",
      "c:   4\n"
     ]
    },
    {
     "name": "stdout",
     "output_type": "stream",
     "text": [
      "it is ascalen trangle\n"
     ]
    }
   ],
   "source": [
    "print(\"input length of the triangle sides\")\n",
    "a=int(input(\"a:  \"))\n",
    "b=int(input(\"b:  \"))\n",
    "c=int(input(\"c:  \"))\n",
    "\n",
    "if a==b==c:\n",
    "    print(\"it is an equilateral trangle\")\n",
    "elif a==b or b==c or c==a:\n",
    "    print(\"it is an isosceles trangle\")\n",
    "else:\n",
    "    print(\"it is ascalen trangle\")\n",
    "    "
   ]
  },
  {
   "cell_type": "markdown",
   "id": "43a2a041-fa60-4be8-a045-a147a4fc8d27",
   "metadata": {},
   "source": [
    "- we create three length variable of trangle name a,b and c .\n",
    "- we use the if statements if a==b==c is possible then it is an equilateral trangle.\n",
    "- we use the elif statement if any two lngth of angle is  equal to each other then it is an isosceles trangle.\n",
    "- we use the else statements if fail both upper condition then print elif condition over here."
   ]
  },
  {
   "cell_type": "markdown",
   "id": "a742a9ed-1ff9-413f-a509-b9f08de1a7fb",
   "metadata": {},
   "source": [
    "### 13. Develop a program that checks if a year is a leap year and also if it is a century year."
   ]
  },
  {
   "cell_type": "code",
   "execution_count": 12,
   "id": "f123fb68-7429-409a-90ae-edff1cf529a7",
   "metadata": {},
   "outputs": [
    {
     "name": "stdin",
     "output_type": "stream",
     "text": [
      "enter year to be checked 2025\n"
     ]
    },
    {
     "name": "stdout",
     "output_type": "stream",
     "text": [
      "year is leap year\n"
     ]
    }
   ],
   "source": [
    "year=int(input(\"enter year to be checked\"))\n",
    "if year % 4!=0:\n",
    "    print(\"year is leap year\")\n",
    "    \n",
    "elif year % 100==0:\n",
    "    print(\"year is a sentury \")\n",
    "    \n",
    "elif year % 400==0:\n",
    "    print(\"year is a leap year\")\n",
    "    \n",
    "else:\n",
    "    print(\"year is not a leap year\")"
   ]
  },
  {
   "cell_type": "markdown",
   "id": "1769730b-598b-41a4-b0e0-088669c84696",
   "metadata": {},
   "source": [
    "### 14. Write a Python script to determine if a number is positive, negative, or zero."
   ]
  },
  {
   "cell_type": "code",
   "execution_count": 37,
   "id": "cda9f6b1-2101-401a-8856-4987356ca711",
   "metadata": {},
   "outputs": [
    {
     "name": "stdin",
     "output_type": "stream",
     "text": [
      "enter the number 4564165\n"
     ]
    },
    {
     "name": "stdout",
     "output_type": "stream",
     "text": [
      "given number is possitive\n"
     ]
    }
   ],
   "source": [
    "enter_number=int(input(\"enter the number\"))\n",
    "if enter_number==0:\n",
    "                 print(\"given number is zero\")\n",
    "                 \n",
    "elif enter_number>0:\n",
    "                 print(\"given number is possitive\")\n",
    "                 \n",
    "elif enter_number<0:\n",
    "                 print(\"given number is negative\")\n",
    "        \n",
    "else:\n",
    "    print(\"enterd number is wrog\")"
   ]
  },
  {
   "cell_type": "markdown",
   "id": "689d1fee-204f-49eb-b7fb-6a7c00c68c96",
   "metadata": {},
   "source": [
    "- we ask the user input that he want to check number.\n",
    "- we use the if elif statements to check the multiple condition."
   ]
  },
  {
   "cell_type": "markdown",
   "id": "d79f0228-0ee1-44ab-8e09-09d5f79938f5",
   "metadata": {},
   "source": [
    "### 15. Create a program to check if a person is a teenager (between 13 and 19 years old)."
   ]
  },
  {
   "cell_type": "code",
   "execution_count": 26,
   "id": "b91c93a9-b9ba-46a8-87fa-564f330cfed2",
   "metadata": {},
   "outputs": [
    {
     "name": "stdin",
     "output_type": "stream",
     "text": [
      "enter the age  15\n"
     ]
    },
    {
     "name": "stdout",
     "output_type": "stream",
     "text": [
      "yes person is b/w 13 and 19 year old\n"
     ]
    }
   ],
   "source": [
    "age =int(input(\"enter the age \"))\n",
    "\n",
    "\n",
    "if 19>=age>=13:\n",
    "    print(\"yes person is b/w 13 and 19 year old\")\n",
    "    \n",
    "elif age>19:\n",
    "    print(\"person is grater than 19 year old\")\n",
    "    \n",
    "else:\n",
    "    age<13\n",
    "    print(\"person age is less than 13 year old\")"
   ]
  },
  {
   "cell_type": "markdown",
   "id": "67b8ee49-b3fe-4fdf-b22a-b754363a7287",
   "metadata": {},
   "source": [
    "- first of all we ask the user age.\n",
    "- we use the if ,elif and else statements to check the multipal statements.\n"
   ]
  },
  {
   "cell_type": "markdown",
   "id": "fc981fa4-a7d0-42b0-ae4d-f00fe9ee5e20",
   "metadata": {},
   "source": [
    "### 16. Develop a program that determines the type of angle based on its measure (acute, obtuse, or right)."
   ]
  },
  {
   "cell_type": "code",
   "execution_count": 17,
   "id": "ef95e8bc-90a0-41af-a5e5-49857a8708fa",
   "metadata": {},
   "outputs": [],
   "source": [
    "def angletype(angle):\n",
    "    if angle<90:\n",
    "        return \"acute angle\"\n",
    "    elif angle==90:\n",
    "        return \"right angle\"\n",
    "    else:\n",
    "        return \"obtuse angle\"\n",
    "    "
   ]
  },
  {
   "cell_type": "code",
   "execution_count": 19,
   "id": "6c82a51a-c753-4019-9021-4464bb691767",
   "metadata": {},
   "outputs": [
    {
     "data": {
      "text/plain": [
       "'right angle'"
      ]
     },
     "execution_count": 19,
     "metadata": {},
     "output_type": "execute_result"
    }
   ],
   "source": [
    "angletype(90)"
   ]
  },
  {
   "cell_type": "markdown",
   "id": "36ce8dca-9266-438e-a01d-b60a1e530f49",
   "metadata": {},
   "source": [
    "- firt of all we create the function name,angletype inside this take one arguments name angle.\n",
    "- we create the if statement to check the acute angle if angke is less than 90 then print ` acute angle`\".\n",
    "- we use the elif statements to check the angle is right or not if angle is equal to the 90 then print thr angle is right angle.\n",
    "- we use the else statements to print the obtuse angle."
   ]
  },
  {
   "cell_type": "markdown",
   "id": "8ae0bdb8-f560-417a-b0a0-8a53aed34c46",
   "metadata": {},
   "source": [
    "### 17. Write a Python program to calculate the roots of a quadratic equation."
   ]
  },
  {
   "cell_type": "code",
   "execution_count": 25,
   "id": "d52f5ba4-b948-4099-b54d-85342b42002e",
   "metadata": {},
   "outputs": [
    {
     "name": "stdout",
     "output_type": "stream",
     "text": [
      "The solution are (-3+0j) and (-2+0j)\n"
     ]
    }
   ],
   "source": [
    "# Solve the quadratic equation ax**2 + bx + c = 0\n",
    "\n",
    "# import complex math module\n",
    "import cmath\n",
    "\n",
    "a = 1\n",
    "b = 5\n",
    "c = 6\n",
    "\n",
    "# calculate the discriminant\n",
    "d = (b**2) - (4*a*c)\n",
    "\n",
    "# find two solutions\n",
    "sol1 = (-b-cmath.sqrt(d))/(2*a)\n",
    "sol2 = (-b+cmath.sqrt(d))/(2*a)\n",
    "\n",
    "print('The solution are {0} and {1}'.format(sol1,sol2))"
   ]
  },
  {
   "cell_type": "markdown",
   "id": "0606311f-3335-4753-8490-6ee8b2a4fbbb",
   "metadata": {},
   "source": [
    "### 18. Implement a program to determine the day of the week based on a user-provided number (1 for Monday, 2 for Tuesday, etc.)."
   ]
  },
  {
   "cell_type": "code",
   "execution_count": 30,
   "id": "3c2837f8-c28c-4173-9c79-4649851b0399",
   "metadata": {},
   "outputs": [
    {
     "name": "stdin",
     "output_type": "stream",
     "text": [
      "enter the number 1\n"
     ]
    },
    {
     "name": "stdout",
     "output_type": "stream",
     "text": [
      "1 :is a sunday\n"
     ]
    }
   ],
   "source": [
    "day = int(input(\"enter the number from 1 to 7\"))\n",
    "\n",
    "if day==1:\n",
    "    print(day,\":is a sunday\")\n",
    "    \n",
    "elif day==2:\n",
    "    print(day,\":is a monday\")\n",
    "\n",
    "elif day==3:\n",
    "    print(day,\":day is a tuesday\")\n",
    "    \n",
    "elif day==4:\n",
    "    print(day,\":day is a wednesday\")\n",
    "elif day==5:\n",
    "    print(day,\":day is a thurseday\")\n",
    "    \n",
    "elif day==6:\n",
    "    print(day,\":day is a friday\")\n",
    "    \n",
    "elif day ==7:\n",
    "    print(day,\":day is a saturday\")\n",
    "    "
   ]
  },
  {
   "cell_type": "markdown",
   "id": "924bca07-3516-4248-a293-5527482c01ff",
   "metadata": {},
   "source": [
    "- first of all we ask the user input from 1 to 7 to check the perticular day .\n",
    "- we use the multiple if ,elif and else statements to check the days.\n"
   ]
  },
  {
   "cell_type": "markdown",
   "id": "9801da54-d08a-4a21-a7a2-42c8650120a1",
   "metadata": {},
   "source": [
    "### 19. Create a program that determines if a year is a leap year and also if it is evenly divisible by 400."
   ]
  },
  {
   "cell_type": "code",
   "execution_count": 26,
   "id": "7fdc5f65-6b95-4e02-bb0f-c3ff2588a5b5",
   "metadata": {},
   "outputs": [
    {
     "name": "stdout",
     "output_type": "stream",
     "text": [
      "2000 is a leap year\n"
     ]
    }
   ],
   "source": [
    "# Python program to check if year is a leap year or not\n",
    "\n",
    "year = 2000\n",
    "\n",
    "# To get year (integer input) from the user\n",
    "# year = int(input(\"Enter a year: \"))\n",
    "\n",
    "# divided by 100 means century year (ending with 00)\n",
    "# century year divided by 400 is leap year\n",
    "if (year % 400 == 0) and (year % 100 == 0):\n",
    "    print(\"{0} is a leap year\".format(year))\n",
    "\n",
    "# not divided by 100 means not a century year\n",
    "# year divided by 4 is a leap year\n",
    "elif (year % 4 ==0) and (year % 100 != 0):\n",
    "    print(\"{0} is a leap year\".format(year))\n",
    "\n",
    "# if not divided by both 400 (century year) and 4 (not century year)\n",
    "# year is not leap year\n",
    "else:\n",
    "    print(\"{0} is not a leap year\".format(year))"
   ]
  },
  {
   "cell_type": "markdown",
   "id": "c8fbc019-9f46-4adc-83d7-6fecae2739f6",
   "metadata": {},
   "source": [
    "### 20. Develop a program that checks if a given number is prime or not using nested if-else statements."
   ]
  },
  {
   "cell_type": "code",
   "execution_count": 12,
   "id": "be7e894e-8f28-40f8-ac34-21b22b0db0a3",
   "metadata": {},
   "outputs": [
    {
     "name": "stdout",
     "output_type": "stream",
     "text": [
      "11 :number is a prime number\n"
     ]
    }
   ],
   "source": [
    "num =11\n",
    "if num>1:\n",
    "    for i in range(2,int(num/2)+1):\n",
    "        \n",
    "        if num%i==0:\n",
    "            \n",
    "            print(num,\":number is not a prime number\")\n",
    "            \n",
    "            \n",
    "            break\n",
    "        \n",
    "    else:\n",
    "        print(num,\":number is a prime number\")\n",
    "        \n",
    "else:\n",
    "    print(num,\":number is not a prime number \")"
   ]
  },
  {
   "cell_type": "markdown",
   "id": "9f0adee7-2ccf-4266-b113-35ab274bca8f",
   "metadata": {},
   "source": [
    "- the idea solve this problem is to iterate through all the numbers starting from 2 to num/2 using a for loop .\n",
    "- for every numbers checks divides n if we find any number that divides , we return number is not a prime number .\n",
    "- if we did not find any number b/w 2 and n/2 ,that we return number is a prime number ."
   ]
  },
  {
   "cell_type": "markdown",
   "id": "099ad61d-d511-4f23-907d-0c50a5a1aadd",
   "metadata": {},
   "source": [
    "- ## ***Elif Statements***:"
   ]
  },
  {
   "cell_type": "markdown",
   "id": "89427151-467d-4705-9b9e-48aaacb8a1e4",
   "metadata": {},
   "source": [
    " ### 21. Write a Python program to assign grades based on different ranges of scores using elif statements."
   ]
  },
  {
   "cell_type": "code",
   "execution_count": 35,
   "id": "f4249717-e31c-4588-a1e7-2d443fd7a87a",
   "metadata": {},
   "outputs": [
    {
     "name": "stdin",
     "output_type": "stream",
     "text": [
      "enter the student number 80\n"
     ]
    },
    {
     "name": "stdout",
     "output_type": "stream",
     "text": [
      "excelent performance your grade is A\n"
     ]
    }
   ],
   "source": [
    "student_score=int(input(\"enter the student number\"))\n",
    "if student_score>=90:\n",
    "    print(\"excelent performance your grade is A+\")\n",
    "elif student_score>=80:\n",
    "    print(\"excelent performance your grade is A\")\n",
    "elif student_score>=70:\n",
    "    print(\"excelent performance your grade is B+\")\n",
    "elif student_score>=60:\n",
    "    print(\"excelent performance your grade is B\")\n",
    "    \n",
    "elif student_score >=50:\n",
    "    print(\"excelent performance your grade is c\")\n",
    "    \n",
    "else:\n",
    "    student_score<50\n",
    "    print(\"student will be  fail\")"
   ]
  },
  {
   "cell_type": "markdown",
   "id": "57b89c5e-bbb8-4a41-81b9-072fa986adcc",
   "metadata": {},
   "source": [
    "- we define the student_score is =75.\n",
    "- we use the if statements to check if number score by student is grater or equal to 90 then print grade A+.\n",
    "- we use elif statements to check if number score by student is grater or equal to 80 then print grade A.\n",
    "- we use another elif statements to check if number score by student is grater or equal to 70 then print grade B+.\n",
    "- we use another elif statements to check if number score by student is grater or equal to 60 then print grade B.\n",
    "- we use another elif statements to check if number score by student is grater or equal to 50 then print grade C.\n",
    "- we use else statements if number score by the student is less than 50 then print student will be fail."
   ]
  },
  {
   "cell_type": "markdown",
   "id": "352324d3-5a5d-42ca-a56d-dd1939a994d8",
   "metadata": {},
   "source": [
    "### 22. Implement a program to determine the type of a triangle based on its angles."
   ]
  },
  {
   "cell_type": "code",
   "execution_count": 26,
   "id": "eb9016c2-2b7d-4456-a681-6b49f3b098fd",
   "metadata": {},
   "outputs": [
    {
     "name": "stdin",
     "output_type": "stream",
     "text": [
      "enter the angle 90\n"
     ]
    },
    {
     "name": "stdout",
     "output_type": "stream",
     "text": [
      "90 right angle\n"
     ]
    }
   ],
   "source": [
    "angletype=int(input(\"enter the angle\"))\n",
    "\n",
    "\n",
    "if angletype==90:\n",
    "    print(angletype, \"right angle\")\n",
    "elif angletype<90:\n",
    "    print(angletype, \"acute angle\")\n",
    "else:\n",
    "    print(angletype,\"obsulute angle\")"
   ]
  },
  {
   "cell_type": "markdown",
   "id": "c30a2f7c-466c-4c0e-8c59-c0c79e576501",
   "metadata": {},
   "source": [
    "- first of all we ask the user input that he want to check the which type of angle.\n",
    "- we use the if statememnts if angletype==90 then print angle is right angle.\n",
    "- we use the elif statements if angle is less than 90 then print angle is acute angle.\n",
    "- we use the else statement if write the both condition if fail then else statements comes into a picture and print angle is obsolute ."
   ]
  },
  {
   "cell_type": "markdown",
   "id": "898a5442-f4a6-4d8c-b97b-4e6bdc2b8a6d",
   "metadata": {},
   "source": [
    "### 23. Develop a program to categorize a given person's BMI`(body ,mass index)` into underweight, normal, overweight, or obese using elif statements."
   ]
  },
  {
   "cell_type": "code",
   "execution_count": 13,
   "id": "6d212b27-123b-4b14-a2d3-551c63e29613",
   "metadata": {},
   "outputs": [
    {
     "name": "stdin",
     "output_type": "stream",
     "text": [
      " 21.5\n",
      " 24.5\n"
     ]
    },
    {
     "name": "stdout",
     "output_type": "stream",
     "text": [
      "under weight\n"
     ]
    }
   ],
   "source": [
    "weight = float(input())\n",
    "\n",
    "height = float(input())\n",
    "\n",
    "BMI = weight/height**2\n",
    "\n",
    "\n",
    "if BMI<18.5:\n",
    "    print(\"under weight\")\n",
    "    \n",
    "elif 18.5<=BMI<25:\n",
    "    print(\"normal\")\n",
    "    \n",
    "elif 25<=BMI<30:\n",
    "    print(\"over weight\")\n",
    "    \n",
    "else:\n",
    "    print(\"obesity\")"
   ]
  },
  {
   "cell_type": "markdown",
   "id": "bba4e940-97cb-4077-bbd1-fd5bd1957fda",
   "metadata": {},
   "source": [
    "- first of all we ask the user input weight and height of the person .\n",
    "- we create the formula of body mass  height ` (BMI = weight/height**2)`.\n",
    "- we create the condition under if block if if BMI is less than 18.5 then print under weight.\n",
    "- we use the elif statements if BMI is grater than 18.5 and less than 25 then print normal.\n",
    "- we use another elif statements if BMI is grater than 25 and less than 30 then print over weight else print obesity."
   ]
  },
  {
   "cell_type": "markdown",
   "id": "68af04b2-fd8a-491b-9ef9-49391d1a6808",
   "metadata": {},
   "source": [
    "### 24. Create a program that determines whether a given number is positive, negative, or zero using elif statements."
   ]
  },
  {
   "cell_type": "code",
   "execution_count": 36,
   "id": "2b1b001f-e33e-4805-a520-ba2189702a17",
   "metadata": {},
   "outputs": [
    {
     "name": "stdin",
     "output_type": "stream",
     "text": [
      "enter the number 45220\n"
     ]
    },
    {
     "name": "stdout",
     "output_type": "stream",
     "text": [
      "given number is possitive\n"
     ]
    }
   ],
   "source": [
    "enter_number=int(input(\"enter the number\"))\n",
    "if enter_number==0:\n",
    "                 print(\"given number is zero\")\n",
    "                 \n",
    "elif enter_number>0:\n",
    "                 print(\"given number is possitive\")\n",
    "                 \n",
    "elif enter_number<0:\n",
    "                 print(\"given number is negative\")\n",
    "        \n",
    "else:\n",
    "    print(\"enterd number is wrog\")"
   ]
  },
  {
   "cell_type": "markdown",
   "id": "be90a397-1e13-4f67-815c-63806f917c3a",
   "metadata": {},
   "source": [
    "- we ask the user input that he want to check number.\n",
    "- we use the if elif statements to check the multiple condition."
   ]
  },
  {
   "cell_type": "markdown",
   "id": "4dd8f6d1-f990-4388-bb1e-dba5e324e4a7",
   "metadata": {},
   "source": [
    "### 25. Write a Python script to determine the type of a character (uppercase, lowercase, or special) using elif statements."
   ]
  },
  {
   "cell_type": "code",
   "execution_count": 36,
   "id": "fe8e5587-c9ae-42b2-8c89-15fd89a76320",
   "metadata": {},
   "outputs": [
    {
     "name": "stdin",
     "output_type": "stream",
     "text": [
      "enter the character AVNEESH VERMA\n"
     ]
    },
    {
     "name": "stdout",
     "output_type": "stream",
     "text": [
      "given character is in uppercase\n"
     ]
    }
   ],
   "source": [
    "type_of_character=input(\"enter the character\")\n",
    "\n",
    "if (type_of_character.isupper()):\n",
    "    print (\"given character is in uppercase\")\n",
    "    \n",
    "elif (type_of_character.islower()):\n",
    "    print (\"given character is in lower\")\n",
    "    \n",
    "else:\n",
    "    print(\"given chaaracter is not in lower or upper case alphabate\")"
   ]
  },
  {
   "cell_type": "markdown",
   "id": "052da951-93ce-48f9-9dba-0445327c01e5",
   "metadata": {},
   "source": [
    "- first os all we ask the user input that he want to what type of character .\n",
    "- `if (type_of_character.isupper()):`:Inside this function we check the character is in upercase if characer in upper case then print character in uppercase.\n",
    "- we use the `elif (type_of_character.islower()):`:Inside this function we check the character in lowercase or not if character in lowercase then print the characters in lowercase.\n",
    "\n",
    "- we use the else statements if both condition is fail the else block comes into a picture and print given character is not in lower or upper case alphabates."
   ]
  },
  {
   "cell_type": "markdown",
   "id": "15eb8f96-b3b2-403d-90db-7adc20319127",
   "metadata": {},
   "source": [
    "### 26. Implement a program to calculate the discounted price based on different purchase amounts using elif statements."
   ]
  },
  {
   "cell_type": "code",
   "execution_count": 1,
   "id": "0327795f-e2a0-4110-9dbe-ffca785f0fd9",
   "metadata": {},
   "outputs": [
    {
     "name": "stdin",
     "output_type": "stream",
     "text": [
      "enter the amount 5000\n"
     ]
    },
    {
     "name": "stdout",
     "output_type": "stream",
     "text": [
      "total pay amount: 5000\n",
      "discount amount: 1500.0\n"
     ]
    }
   ],
   "source": [
    "amount=int(input(\"enter the amount\"))\n",
    "\n",
    "if 2000>=amount>=0:\n",
    "    diss=0.05*amount\n",
    "    print(\"total pay amount is:\", amount)\n",
    "    print(\"discount amount is:\",diss)\n",
    "elif 5000>=amount>=2000:\n",
    "    diss=0.3*amount\n",
    "    print(\"total pay amount:\",amount)\n",
    "    print(\"discount amount:\",diss)\n",
    "    \n",
    "elif 10000>=amount>=5000:\n",
    "    diss=0.5 "
   ]
  },
  {
   "cell_type": "markdown",
   "id": "ce83bbaa-67e3-4e2c-9e80-566b2c754d4e",
   "metadata": {},
   "source": [
    "- we ask the user input to enter the amount .\n",
    "- we use the elif statements if amount is grater than and less than 2000 in which amount 0.05% of discount.\n",
    "- we creat the diss variable to decide the 0.05% of the discount for perticular price.\n",
    "- we use the elif statements if amount is grater than 2000 and less than 5000 in which amount 0.3% of discount.\n",
    "- we use the elif statements if amount if grater than and less than 10000 in which amount 0.5% of discount."
   ]
  },
  {
   "cell_type": "markdown",
   "id": "cf34edd0-0673-48ef-8a40-29f23fd15a7b",
   "metadata": {},
   "source": [
    "### 27. Develop a program to calculate the electricity bill based on different consumption slabs using elif statements."
   ]
  },
  {
   "cell_type": "code",
   "execution_count": 16,
   "id": "6adec2c1-83a1-43f1-b9e7-d67d607ade40",
   "metadata": {},
   "outputs": [
    {
     "name": "stdin",
     "output_type": "stream",
     "text": [
      "enter the units 10\n"
     ]
    },
    {
     "name": "stdout",
     "output_type": "stream",
     "text": [
      "total net pay electricity bill is: 15.0\n"
     ]
    }
   ],
   "source": [
    "units = int(input(\"enter the units\"))\n",
    "if units==0:\n",
    "    per_unitcharg=1.5\n",
    "    print(\"total net pay electricity bill is:\",units*per_unitcharg)\n",
    "    \n",
    "elif units>0:\n",
    "    per_unitcharg=1.5\n",
    "    print(\"total net pay electricity bill is:\",units*per_unitcharg)\n",
    "    \n",
    "else:\n",
    "    print(\"you enterd wrong units\")"
   ]
  },
  {
   "cell_type": "markdown",
   "id": "dbcde5a6-38df-4ba7-88b5-950016c9bede",
   "metadata": {},
   "source": [
    "- first of all we asks the user to units that he want to check the total amount of perticular units.\n",
    "- we use the is statements if units is equal to zero then print total electricity bill will be zero .\n",
    "- we use the elif statemennts if units is grater than  0 then units multiply with per unit charg that is 1.5 and then print the total net pay electricity bill.\n",
    "- if user enter the negative electricity bill then print you enterd wrong units b/c units can't be negative .\n"
   ]
  },
  {
   "cell_type": "markdown",
   "id": "39cd1d06-2ef0-4e69-9786-cacbc2e20b6e",
   "metadata": {},
   "source": [
    "### 28. Create a program to determine the type of quadrilateral based on its angles and sides using elif statements."
   ]
  },
  {
   "cell_type": "code",
   "execution_count": 27,
   "id": "04ca93ab-3213-4762-bdbf-aee73fd871fd",
   "metadata": {},
   "outputs": [
    {
     "name": "stdout",
     "output_type": "stream",
     "text": [
      "Input lengths of the triangle sides: \n"
     ]
    },
    {
     "name": "stdin",
     "output_type": "stream",
     "text": [
      "x:  4\n",
      "y:  4\n",
      "z:  4\n"
     ]
    },
    {
     "name": "stdout",
     "output_type": "stream",
     "text": [
      "Equilateral triangle\n"
     ]
    }
   ],
   "source": [
    "print(\"Input lengths of the triangle sides: \")\n",
    "x = int(input(\"x: \"))\n",
    "y = int(input(\"y: \"))\n",
    "z = int(input(\"z: \"))\n",
    "\n",
    "if x == y == z:\n",
    "\tprint(\"Equilateral triangle\")\n",
    "elif x==y or y==z or z==x:\n",
    "\tprint(\"isosceles triangle\")\n",
    "else:\n",
    "\tprint(\"Scalene triangle\")\n"
   ]
  },
  {
   "cell_type": "markdown",
   "id": "1dabe1d4-1b2a-407c-a63c-cfba969e6181",
   "metadata": {},
   "source": [
    "### 29. Write a Python script to determine the season based on a user-provided month using elif statements."
   ]
  },
  {
   "cell_type": "code",
   "execution_count": 49,
   "id": "7317f6bc-01a9-483c-b445-32b1e53bb837",
   "metadata": {},
   "outputs": [
    {
     "name": "stdin",
     "output_type": "stream",
     "text": [
      "enter the month name eg.january february etc. april\n"
     ]
    },
    {
     "name": "stdout",
     "output_type": "stream",
     "text": [
      "season is spring\n"
     ]
    }
   ],
   "source": [
    "month =input(\"enter the month name eg.january february etc.\")\n",
    "if month in (\"january\",\"february\",\"march\"):\n",
    "    \n",
    "    print(\" season is winter\")\n",
    "\n",
    "elif month in (\"april\",\"may\",\"june\"):\n",
    "    print(\"season is spring\")\n",
    "    \n",
    "elif month in (\"july\",\"august\",\"september\"):\n",
    "    print(\"season is summer\")\n",
    "\n",
    "elif month in (\"october\",\"november\",\"december\"):\n",
    "    print(\"season is autom\")\n",
    "else:\n",
    "    print(\"you enter the wrong month\")\n",
    "    \n"
   ]
  },
  {
   "cell_type": "markdown",
   "id": "21a9c29d-47e5-4b0b-bab3-871036007955",
   "metadata": {},
   "source": [
    "- we ask the user input to month that he want to check the season.\n",
    "- we use the if statements to check the winter season if month b/w january to march then print the season is winter.\n",
    "- we use the elif statements if month is b/w april to june then print the season is spring.\n",
    "- we use the elif statements if month is b/w july to september then print the season is summer.\n",
    "- we use the elif statements if month is b/w october to december then print the season is autom.\n",
    "- we use the else statements if if mont is not b/w january to december then print you enterd the wrong month. "
   ]
  },
  {
   "cell_type": "markdown",
   "id": "74558bfb-9042-4835-a917-f142099669dc",
   "metadata": {},
   "source": [
    "### 30. Implement a program to determine the type of a year (leap or common) and month (30 or 31 days) using elif statements."
   ]
  },
  {
   "cell_type": "code",
   "execution_count": 29,
   "id": "2839f6d6-fada-47ed-9cd2-932ab9c2946c",
   "metadata": {},
   "outputs": [
    {
     "name": "stdin",
     "output_type": "stream",
     "text": [
      "type a year:  2023\n"
     ]
    },
    {
     "name": "stdout",
     "output_type": "stream",
     "text": [
      "you typed in : 2023\n"
     ]
    },
    {
     "name": "stdin",
     "output_type": "stream",
     "text": [
      "type a month:  march\n"
     ]
    },
    {
     "name": "stdout",
     "output_type": "stream",
     "text": [
      "you typed in : march\n",
      "this month has 31 days\n",
      "is not a leap year\n"
     ]
    }
   ],
   "source": [
    "def cal(month):\n",
    "    if month in ['January', 'march','may','july','august','oct','dec']:\n",
    "        print (\"this month has 31 days\")\n",
    "    elif month in ['april','june','sept','nov']:\n",
    "        print (\"this month has 30 days\")\n",
    "    elif month == 'feb' and leap(year)== True:\n",
    "        print (\"this month has 29 days\")\n",
    "    elif month == 'feb' and leap(year) == False:\n",
    "        print (\"this month has 28 days\")\n",
    "    else:\n",
    "        print (\"invalid input\")   \n",
    "\n",
    "\n",
    "def leap(year):\n",
    "    if (year % 4== 0) or (year % 400 == 0):\n",
    "        print (\"its a leap year!\")\n",
    "    else: \n",
    "        print (\"is not a leap year\")\n",
    "\n",
    "year = int(input('type a year: '))\n",
    "print ('you typed in :' , year)\n",
    "month = str(input('type a month: '))\n",
    "print ('you typed in :', month)\n",
    "\n",
    "\n",
    "\n",
    "cal(month)\n",
    "leap(year) "
   ]
  },
  {
   "cell_type": "markdown",
   "id": "e386163a-abe6-4e43-bda8-b3946b7d2434",
   "metadata": {},
   "source": [
    "- ## ***Basic Level***:"
   ]
  },
  {
   "cell_type": "markdown",
   "id": "dcf4f0ad-76c7-4a45-952c-bf9e0f99160e",
   "metadata": {},
   "source": [
    "### 1. Write a Python program that checks if a given number is positive, negative, or zero."
   ]
  },
  {
   "cell_type": "code",
   "execution_count": 1,
   "id": "f8a5edc4-c1f5-4015-8827-0b577d349369",
   "metadata": {},
   "outputs": [
    {
     "name": "stdin",
     "output_type": "stream",
     "text": [
      "enter the number 1452\n"
     ]
    },
    {
     "name": "stdout",
     "output_type": "stream",
     "text": [
      "given number is possitive\n"
     ]
    }
   ],
   "source": [
    "enter_number=int(input(\"enter the number\"))\n",
    "if enter_number==0:\n",
    "                 print(\"given number is zero\")\n",
    "                 \n",
    "elif enter_number>0:\n",
    "                 print(\"given number is possitive\")\n",
    "                 \n",
    "elif enter_number<0:\n",
    "                 print(\"given number is negative\")\n",
    "        \n",
    "else:\n",
    "    print(\"enterd number is wrog\")"
   ]
  },
  {
   "cell_type": "markdown",
   "id": "ce2066bd-7e5d-4b43-ad61-c623afb46996",
   "metadata": {},
   "source": [
    "- we ask the user input that he want to check number.\n",
    "- we use the if elif statements to check the multiple condition."
   ]
  },
  {
   "cell_type": "markdown",
   "id": "c1d841ca-ebdb-4139-91f1-b9a38ff3678c",
   "metadata": {},
   "source": [
    "\n",
    "### 2. Create a program to determine if a person is eligible to vote based on their age.\n"
   ]
  },
  {
   "cell_type": "code",
   "execution_count": 2,
   "id": "174b3804-c0ef-4175-b811-1e370ba6517f",
   "metadata": {},
   "outputs": [
    {
     "name": "stdin",
     "output_type": "stream",
     "text": [
      "what is your age 19\n"
     ]
    },
    {
     "name": "stdout",
     "output_type": "stream",
     "text": [
      "user is elligibe for vote\n"
     ]
    }
   ],
   "source": [
    "\n",
    "### ask the user input \n",
    "eligibe_to_bote_age=int(input(\"what is your age\"))\n",
    "if eligibe_to_bote_age>=18:\n",
    "    print(\"user is elligibe for vote\")\n",
    "    \n",
    "else:\n",
    "    print(\"user is not eligible for vote\")\n",
    "    "
   ]
  },
  {
   "cell_type": "markdown",
   "id": "5a74da20-3b09-4bd2-a735-9171be03b75f",
   "metadata": {},
   "source": [
    "- we ask the users to what is your age .\n",
    "- we create the critaria of age if user age is grater than 18 then he'll only eligible for vote  .\n",
    "- we use the else statements if user age is not grater than 18 or equal to 18 , user is not eligible for the vote.\n"
   ]
  },
  {
   "cell_type": "markdown",
   "id": "d1927c91-cc3d-4386-b440-e5f584c5527e",
   "metadata": {},
   "source": [
    "\n",
    "### 3. Write a program to find the maximum of two given numbers using conditional statements.\n"
   ]
  },
  {
   "cell_type": "code",
   "execution_count": 4,
   "id": "8a28c6be-eb71-4d62-b0e5-f5404fb82683",
   "metadata": {},
   "outputs": [
    {
     "name": "stdout",
     "output_type": "stream",
     "text": [
      "largest number is num2: 500000\n"
     ]
    }
   ],
   "source": [
    "num1=500\n",
    "num2=500000\n",
    "if (num1>=num2) and (num1>=num2):\n",
    "    largest =num1\n",
    "    print(\"largest number is num1:\",num1)\n",
    "else:\n",
    "    largest=num2\n",
    "    print(\"largest number is num2:\",num2)"
   ]
  },
  {
   "cell_type": "markdown",
   "id": "4c58e16d-c61f-43bc-96c7-39397d7cfdc8",
   "metadata": {},
   "source": [
    "- first of all we create the to number variable num1 and num2 that stores the inteser value that we want to compare b/w num1 and num2 to find the maximum of numbers .\n",
    "- we use the if statements to check the b/w num1 and num2 who is gratest one .\n",
    "- if num1 is gratest in this situation if condition only work if not gratest then, else statements comes into picture .\n",
    "- print statments use the print tha statements what is gratest."
   ]
  },
  {
   "cell_type": "markdown",
   "id": "2742e98b-ca92-4984-bab4-68e92cb441f7",
   "metadata": {},
   "source": [
    "### 4. Develop a program that calculates the grade of a student based on their exam score.\n"
   ]
  },
  {
   "cell_type": "code",
   "execution_count": 5,
   "id": "1656e1ae-de15-49a5-a5a0-9c533b376179",
   "metadata": {},
   "outputs": [
    {
     "name": "stdin",
     "output_type": "stream",
     "text": [
      "enter the student number 80\n"
     ]
    },
    {
     "name": "stdout",
     "output_type": "stream",
     "text": [
      "excelent performance your grade is A\n"
     ]
    }
   ],
   "source": [
    "student_score=int(input(\"enter the student number\"))\n",
    "if student_score>=90:\n",
    "    print(\"excelent performance your grade is A+\")\n",
    "elif student_score>=80:\n",
    "    print(\"excelent performance your grade is A\")\n",
    "elif student_score>=70:\n",
    "    print(\"excelent performance your grade is B+\")\n",
    "elif student_score>=60:\n",
    "    print(\"excelent performance your grade is B\")\n",
    "    \n",
    "elif student_score >=50:\n",
    "    print(\"excelent performance your grade is c\")\n",
    "    \n",
    "else:\n",
    "    student_score<50\n",
    "    print(\"student will be  fail\")"
   ]
  },
  {
   "cell_type": "markdown",
   "id": "7105d5cd-2ecd-4307-adc6-f637f81b7102",
   "metadata": {},
   "source": [
    "- we define the student_score is =75.\n",
    "- we use the if statements to check if number score by student is grater or equal to 90 then print grade A+.\n",
    "- we use elif statements to check if number score by student is grater or equal to 80 then print grade A.\n",
    "- we use another elif statements to check if number score by student is grater or equal to 70 then print grade B+.\n",
    "- we use another elif statements to check if number score by student is grater or equal to 60 then print grade B.\n",
    "- we use another elif statements to check if number score by student is grater or equal to 50 then print grade C.\n",
    "- we use else statements if number score by the student is less than 50 then print student will be fail."
   ]
  },
  {
   "cell_type": "markdown",
   "id": "75611704-4d23-480c-9e72-4bca42f78ffc",
   "metadata": {},
   "source": [
    "### 5. Create a program that checks if a year is a leap year or not.\n"
   ]
  },
  {
   "cell_type": "code",
   "execution_count": 6,
   "id": "d51898e9-2b7f-4903-9658-ab927417cd84",
   "metadata": {},
   "outputs": [
    {
     "name": "stdin",
     "output_type": "stream",
     "text": [
      "enter year to be checked 2025\n"
     ]
    },
    {
     "name": "stdout",
     "output_type": "stream",
     "text": [
      "year is not a leap year\n"
     ]
    }
   ],
   "source": [
    "year=int(input(\"enter year to be checked\"))\n",
    "if year % 4==0:\n",
    "    print(\"year is leap year\")\n",
    "    \n",
    "elif year % 100==0:\n",
    "    print(\"year is leap year\")\n",
    "    \n",
    "elif year % 400==0:\n",
    "    print(\"year is a leap year\")\n",
    "    \n",
    "else:\n",
    "    print(\"year is not a leap year\")"
   ]
  },
  {
   "cell_type": "markdown",
   "id": "8aa2fcd8-dda7-4498-b850-e3195e47c604",
   "metadata": {},
   "source": [
    "- first of all we ask the users year that he wants to check.\n",
    "- we use the if statements `if year % 4==0:`: then print the year is a leap year.\n",
    "- then we use the elif statements to check the multiple condition.\n"
   ]
  },
  {
   "cell_type": "markdown",
   "id": "113c66d8-2946-42ee-afe4-9738c3c68588",
   "metadata": {},
   "source": [
    "### 6. Write a program to classify a triangle based on its sides' lengths.\n"
   ]
  },
  {
   "cell_type": "code",
   "execution_count": 28,
   "id": "226db23c-998c-4852-98df-ed48628c6d78",
   "metadata": {},
   "outputs": [
    {
     "name": "stdin",
     "output_type": "stream",
     "text": [
      "enter the first side of trangle 1\n",
      "enter the second side of the trangle 2\n",
      "enter the third side of the trangle 3\n"
     ]
    },
    {
     "name": "stdout",
     "output_type": "stream",
     "text": [
      "trangle is scelen \n"
     ]
    }
   ],
   "source": [
    "first_side=int(input(\"enter the first side of trangle\"))\n",
    "second_side=int(input(\"enter the second side of the trangle\"))\n",
    "third_side=int(input(\"enter the third side of the trangle\"))\n",
    "\n",
    "if first_side==second_side==third_side:\n",
    "    print(\"Trangle is equilateral\")\n",
    "    \n",
    "elif first_side==second_side!=third_side or first_side==third_side or second_side==third_side:\n",
    "    print(\"Trangle is Isosceles\")\n",
    "    \n",
    "elif first_side!=second_side!=third_side:\n",
    "    print(\"trangle is scelen \")\n",
    "    \n",
    "else:\n",
    "    print(\"you enter the wrong side length of the trangle\")"
   ]
  },
  {
   "cell_type": "markdown",
   "id": "624a012d-9124-4424-be5e-9cc07b3fae44",
   "metadata": {},
   "source": [
    "- first of all we ask the users sides of the trangle.\n",
    "- we use the if statements inside the if statements we create the condition if all sides of the trangles is equal to then what trangke is equilateral.\n",
    "- we use the elif statements inside the elif statements we crate the condition if any two sides of the trangle is equal to ewach other then what angle is Isosceles.\n",
    "- we use the another elif statements if any side of the equal is not equal to each other then what trangle is Scelen .\n",
    "- we use the elif statements if all the condition is fail over here then else block comes into picture and write the statements you enterd the wrong side length of the trangle."
   ]
  },
  {
   "cell_type": "markdown",
   "id": "74ae8b7f-fcfd-4edd-84e7-1e67e92660aa",
   "metadata": {},
   "source": [
    "### 7. Build a program that determines the largest of three given numbers.\n"
   ]
  },
  {
   "cell_type": "code",
   "execution_count": 3,
   "id": "052ebdb0-eeb5-47b3-b3f0-ff89e1a82ca8",
   "metadata": {},
   "outputs": [
    {
     "name": "stdout",
     "output_type": "stream",
     "text": [
      "largest number is : 60\n"
     ]
    }
   ],
   "source": [
    "num1=10\n",
    "num2=60\n",
    "num3=50\n",
    "\n",
    "if (num1>=num2) and (num1>=num3):\n",
    "    largest =num1\n",
    "    print(\"largest number is :\",num1)\n",
    "    \n",
    "elif (num2>=num1) and (num2>=num3):\n",
    "    largest =num2\n",
    "    print(\"largest number is :\",num2)\n",
    "    \n",
    "else:\n",
    "    largest =num3\n",
    "    print(\"largest number is :\",num3)"
   ]
  },
  {
   "cell_type": "markdown",
   "id": "d2b52155-9ce8-41fd-9949-119c3181cd41",
   "metadata": {},
   "source": [
    "- we create the tree variable names num1,num2 and num3 t"
   ]
  },
  {
   "cell_type": "markdown",
   "id": "f8d8c8a4-e5fe-476e-b07b-05e56b48ef30",
   "metadata": {},
   "source": [
    "### 8. Develop a program that checks whether a character is a vowel or a consonant.\n"
   ]
  },
  {
   "cell_type": "code",
   "execution_count": 1,
   "id": "478a3885-c728-42b2-b66d-277c845589ae",
   "metadata": {},
   "outputs": [
    {
     "name": "stdin",
     "output_type": "stream",
     "text": [
      "enter the vowel a\n"
     ]
    },
    {
     "name": "stdout",
     "output_type": "stream",
     "text": [
      "a is a vowel\n"
     ]
    }
   ],
   "source": [
    "vowels=['a','e','i','o','u','A','E','I','O','U']\n",
    "\n",
    "enterd_vowels=input(\"enter the vowel\")\n",
    "if enterd_vowels in vowels:\n",
    "    print(enterd_vowels,\"is a vowel\")\n",
    "    \n",
    "else:\n",
    "    print(enterd_vowels,\"is a consonant\")"
   ]
  },
  {
   "cell_type": "markdown",
   "id": "8870a08f-ea53-4ee7-8b35-6b239e4eccf2",
   "metadata": {},
   "source": [
    "- we create the vowels list small and capital both type of vowels .\n",
    "- we ask the user input that he want to check the vowels or a consonant.\n",
    "- we use the multiple if and else statements .\n",
    "- we use the print statements to print the vowels or consonants."
   ]
  },
  {
   "cell_type": "markdown",
   "id": "7dcc78ac-3c8f-4bdc-8083-00a684ea4e8e",
   "metadata": {},
   "source": [
    "### 9. Create a program to calculate the total cost of a shopping cart based on discounts.\n"
   ]
  },
  {
   "cell_type": "code",
   "execution_count": 7,
   "id": "c2930766-0adf-4a78-985a-c7dee1f19fa5",
   "metadata": {},
   "outputs": [
    {
     "name": "stdin",
     "output_type": "stream",
     "text": [
      "enter sale amount 25000\n"
     ]
    },
    {
     "name": "stdout",
     "output_type": "stream",
     "text": [
      "discount amount: 5000.0\n",
      "Net pay: 20000.0\n"
     ]
    }
   ],
   "source": [
    "amount=int(input(\"enter sale amount\"))\n",
    "if amount>0:\n",
    "    if amount<=5000:\n",
    "        discount=amount*0.05\n",
    "    elif amount<=15000:\n",
    "        discount=amount*0.12\n",
    "        \n",
    "    elif amount<=25000:\n",
    "        discount=amount*0.2\n",
    "        \n",
    "    else:\n",
    "        discount=amount*0.3\n",
    "        \n",
    "        \n",
    "    print(\"discount amount:\",discount)\n",
    "    print(\"Net pay:\",amount-discount)\n",
    "else:\n",
    "    print(\"invalid amount\")"
   ]
  },
  {
   "cell_type": "markdown",
   "id": "d6af47f2-bcc7-48ed-af00-9ceda3589487",
   "metadata": {},
   "source": [
    "- we create the amount varibale for the shopkeeper can decide rate of product.\n",
    "\n",
    "- we use the multiple if elif and else statements for the multiple discount rate ."
   ]
  },
  {
   "cell_type": "markdown",
   "id": "604a8ac6-589c-4339-b332-04f8aef5e960",
   "metadata": {},
   "source": [
    "### 10. Write a program that checks if a given number is even or odd."
   ]
  },
  {
   "cell_type": "code",
   "execution_count": 9,
   "id": "d17fa5c2-4261-458a-b2e6-d8d36ad99cea",
   "metadata": {},
   "outputs": [
    {
     "name": "stdin",
     "output_type": "stream",
     "text": [
      "enter the number 22\n"
     ]
    },
    {
     "name": "stdout",
     "output_type": "stream",
     "text": [
      "given number is even \n"
     ]
    }
   ],
   "source": [
    "given_number=int(input(\"enter the number\"))\n",
    "\n",
    "if given_number%2==0:\n",
    "    print(\"given number is even \")\n",
    "    \n",
    "else:\n",
    "    print(\"given number is a odd\")"
   ]
  },
  {
   "cell_type": "markdown",
   "id": "f5bb7f06-91a2-4e0f-b8a9-843cb925cf18",
   "metadata": {},
   "source": [
    "# ***Intermediate level***:"
   ]
  },
  {
   "cell_type": "markdown",
   "id": "e64ee27c-f6b2-420b-96f5-79c221348892",
   "metadata": {},
   "source": [
    "\n",
    "### 11. Write a program that calculates the roots of a quadratic equation .\n"
   ]
  },
  {
   "cell_type": "code",
   "execution_count": 5,
   "id": "37b9c8ab-58ac-4f70-96ec-c022ae9c7fe4",
   "metadata": {},
   "outputs": [
    {
     "name": "stdin",
     "output_type": "stream",
     "text": [
      "enter number (a!=0) 5\n",
      "enter number  4\n",
      "enter number 6\n"
     ]
    },
    {
     "name": "stdout",
     "output_type": "stream",
     "text": [
      "the roots are (-0.4-1.0198039027185568j) and (-0.4+1.0198039027185568j)\n"
     ]
    }
   ],
   "source": [
    "\n",
    "## quadratric a*x**2+b*x+c=0\n",
    "\n",
    "import cmath\n",
    "\n",
    "a=int(input(\"enter number (a!=0)\"))\n",
    "b=int(input(\"enter number \"))\n",
    "c=int(input(\"enter number\"))\n",
    "\n",
    "## formula of discriminate \n",
    "d=(b**2) - (4*a*c)\n",
    "\n",
    "root1=(-b-cmath.sqrt(d))/(2*a)\n",
    "root2=(-b+cmath.sqrt(d))/(2*a)\n",
    "\n",
    "\n",
    "print(\"the roots are\",root1 ,\"and\", root2 )\n"
   ]
  },
  {
   "cell_type": "markdown",
   "id": "7c97f4ea-cead-4e85-a5dc-05496cf15c78",
   "metadata": {},
   "source": [
    "- to solve the quadratic equation first import the cmath function .\n",
    "- we ask the value of a,b,and c to user .\n",
    "- we write the formula of discriminate to find the value of root1 and root2.\n",
    "- we use the print statements to print the value of root1 and root2.\n"
   ]
  },
  {
   "cell_type": "markdown",
   "id": "93c4dbc1-4b35-4a34-8a66-3fd1cf2a6218",
   "metadata": {},
   "source": [
    "### 12. Create a program that determines the day of the week based on the day number (1-7).\n"
   ]
  },
  {
   "cell_type": "code",
   "execution_count": 6,
   "id": "24638be2-d32f-4d9c-9b8f-14272ad768dd",
   "metadata": {},
   "outputs": [
    {
     "name": "stdin",
     "output_type": "stream",
     "text": [
      "enter the number from 1 to 7 2\n"
     ]
    },
    {
     "name": "stdout",
     "output_type": "stream",
     "text": [
      "2 :is a monday\n"
     ]
    }
   ],
   "source": [
    "day = int(input(\"enter the number from 1 to 7\"))\n",
    "\n",
    "if day==1:\n",
    "    print(day,\":is a sunday\")\n",
    "    \n",
    "elif day==2:\n",
    "    print(day,\":is a monday\")\n",
    "\n",
    "elif day==3:\n",
    "    print(day,\":day is a tuesday\")\n",
    "    \n",
    "elif day==4:\n",
    "    print(day,\":day is a wednesday\")\n",
    "elif day==5:\n",
    "    print(day,\":day is a thurseday\")\n",
    "    \n",
    "elif day==6:\n",
    "    print(day,\":day is a friday\")\n",
    "    \n",
    "elif day ==7:\n",
    "    print(day,\":day is a saturday\")\n",
    "    "
   ]
  },
  {
   "cell_type": "markdown",
   "id": "3397c472-0b45-46ac-ac61-4002965a877e",
   "metadata": {},
   "source": [
    "- first of all we ask the user input from 1 to 7 to check the perticular day .\n",
    "- we use the multiple if ,elif and else statements to check the days.\n"
   ]
  },
  {
   "cell_type": "markdown",
   "id": "afd17c3b-293c-4dcd-b4ec-c6be7965d7cc",
   "metadata": {},
   "source": [
    "### 13. Develop a program that calculates the factorial of a given number using recursion.\n"
   ]
  },
  {
   "cell_type": "code",
   "execution_count": 16,
   "id": "dd3c4abb-61af-42bb-ac0c-909771d8aadd",
   "metadata": {},
   "outputs": [],
   "source": [
    "## create the function\n",
    "\n",
    "def factorial_num(n):\n",
    "    if n==1 or n==0:\n",
    "        return 1\n",
    "    \n",
    "    ## use the recursion.\n",
    "    else:\n",
    "        return n*factorial_num(n-1)"
   ]
  },
  {
   "cell_type": "code",
   "execution_count": 17,
   "id": "b73b4930-e899-4cb6-94e9-94720be4440a",
   "metadata": {},
   "outputs": [
    {
     "data": {
      "text/plain": [
       "120"
      ]
     },
     "execution_count": 17,
     "metadata": {},
     "output_type": "execute_result"
    }
   ],
   "source": [
    "factorial_num(5)"
   ]
  },
  {
   "cell_type": "markdown",
   "id": "c374423d-1984-49a4-bae7-4da912d94bda",
   "metadata": {},
   "source": [
    "- first we create the function function name is factorial_num that takes one arguments n.\n",
    "- we use the if statements if n==1 or n==0 then factorial of number is 1.\n",
    "- we use the else statements inside the else statements we use the recursion function to find the factorial of the number ."
   ]
  },
  {
   "cell_type": "markdown",
   "id": "15f6bfe1-9680-4547-aa23-d26733f8886f",
   "metadata": {},
   "source": [
    "### 14. Write a program to find the largest among three numbers without using the `max()` function.\n"
   ]
  },
  {
   "cell_type": "code",
   "execution_count": 1,
   "id": "25811b04-3661-4322-bcbc-556b75f03087",
   "metadata": {},
   "outputs": [
    {
     "name": "stdout",
     "output_type": "stream",
     "text": [
      "gratest number is num2: 60\n"
     ]
    }
   ],
   "source": [
    "num1=20\n",
    "num2=60\n",
    "num3=50\n",
    "\n",
    "if (num1>=num2) and (num1>=num3):\n",
    "    gratest_num= num1\n",
    "    print(\"gratest number is num1:\",num1)\n",
    "    \n",
    "elif (num2>=num1) and (num2>=num3):\n",
    "    gratest_num=num2\n",
    "    print(\"gratest number is num2:\",num2)\n",
    "    \n",
    "else:\n",
    "    gratest_num=num3\n",
    "    print(\"gratest number is num3:\",num3)"
   ]
  },
  {
   "cell_type": "markdown",
   "id": "ec3058c9-ce08-4572-b5ac-9a0f621e92a5",
   "metadata": {},
   "source": [
    "- we create the three variables num1,num2 and num3 that stores the three inteser values .\n",
    "- we use the if and elif statements to compare the values b/w num1,num2 and num3.\n",
    "- then, print the gratest value ."
   ]
  },
  {
   "cell_type": "markdown",
   "id": "ded2e7e6-9192-4f1f-bb4b-24f22533b0b5",
   "metadata": {},
   "source": [
    "### 15. Create a program that simulates a basic ATM transaction menu.\n"
   ]
  },
  {
   "cell_type": "code",
   "execution_count": 18,
   "id": "87518c70-7cff-4c33-9950-a116312114d0",
   "metadata": {},
   "outputs": [
    {
     "name": "stdout",
     "output_type": "stream",
     "text": [
      "welcome to state bank of india\n"
     ]
    },
    {
     "name": "stdin",
     "output_type": "stream",
     "text": [
      "enter your 4 digit pin 1234\n"
     ]
    },
    {
     "name": "stdout",
     "output_type": "stream",
     "text": [
      "1-Withdraw\n",
      "2-Balance enquiry\n",
      "3-Fast case\n"
     ]
    },
    {
     "name": "stdin",
     "output_type": "stream",
     "text": [
      "please choose transcation 1\n",
      "please enter withdraw amount: 10000\n"
     ]
    },
    {
     "name": "stdout",
     "output_type": "stream",
     "text": [
      "please take your amount 10000\n"
     ]
    }
   ],
   "source": [
    "\n",
    "## first write welcome msg.\n",
    "\n",
    "print(\"Welcome to state bank of india\")\n",
    "\n",
    "## ask the user ATM pin.\n",
    "p=int(input(\"enter your 4 digit pin\"))\n",
    "\n",
    "\n",
    "## we define the total amount in ATM.\n",
    "m=25000\n",
    "\n",
    "## we create the cundition inside the if elif and else block.\n",
    "\n",
    "if p==1234:\n",
    "    print(\"1-Withdraw\")\n",
    "    print(\"2-Balance enquiry\")\n",
    "    print(\"3-Fast case\")\n",
    "    \n",
    "    \n",
    "## we ask the user please choose transtion\n",
    "    c= int(input(\"please choose transcation\"))\n",
    "    if c==1:\n",
    "        w=int(input(\"please enter withdraw amount:\"))\n",
    "        if (w<m and w%100==0):\n",
    "            print(\"please take your amount\",w)\n",
    "            \n",
    "        else:\n",
    "            print(\"you enterd invalid case amount\",m)\n",
    "    elif c==2:\n",
    "        print(\"Your avaliable amount\",m)\n",
    "        \n",
    "        \n",
    "    elif c==3:\n",
    "        print(\"1->5000\")\n",
    "        print(\"2->10000\")\n",
    "        print(\"3->15000\")\n",
    "        print(\"4->20000\")\n",
    "        \n",
    "    \n",
    "        f=int(input(\"Choose the fast case option\"))\n",
    "        if (f==1):\n",
    "            print(\"please take case 5000\")\n",
    "        elif(f==2):\n",
    "            print(\"please take case 10000\")\n",
    "            \n",
    "        elif (f==3):\n",
    "            print(\"please take case 15000\")\n",
    "            \n",
    "        elif (f==4):\n",
    "            print(\"please take case 20000\")\n",
    "            \n",
    "            \n",
    "        else:\n",
    "            print(\"you choose wrong option\")\n",
    "            \n",
    "else:\n",
    "    print(\"wrong pin \")\n",
    "    print(\"please try again\")"
   ]
  },
  {
   "cell_type": "markdown",
   "id": "346ad829-d316-41d9-bf80-4bd2e082e21b",
   "metadata": {},
   "source": [
    "- first of all we ask the user pin.\n",
    "- we decide the total amount in the ATM.\n",
    "- we ask the user what type of transcation to do and choose the transction type.(\"withdraw\",\"Balance enquiry\",\"Fast case\")\n",
    "- if user choose the withdrwal option then ask how many amount to withdrdaw that you want then user choose the amount.\n",
    "- if user enter the amount out of the ATM limit then show msg you enter the invalid case amont.\n",
    "- to check the amount user choose balance enquiry option and check the amount."
   ]
  },
  {
   "cell_type": "markdown",
   "id": "c0cb2c28-4243-4195-b8ed-390253bc903c",
   "metadata": {},
   "source": [
    "### 16. Build a program that checks if a given string is a palindrome or not.\n"
   ]
  },
  {
   "cell_type": "code",
   "execution_count": 7,
   "id": "ec2a9c50-bcab-4e8e-8ef0-d80e7b7fd5e4",
   "metadata": {},
   "outputs": [
    {
     "name": "stdin",
     "output_type": "stream",
     "text": [
      "enter the string avneesh\n"
     ]
    },
    {
     "name": "stdout",
     "output_type": "stream",
     "text": [
      "given string is not palindrom\n"
     ]
    }
   ],
   "source": [
    "given_string =input(\"enter the string\")\n",
    "\n",
    "if given_string==given_string[::-1]:\n",
    "    print(\"given string is a palindrom \")\n",
    "    \n",
    "    \n",
    "else:\n",
    "    print(\"given string is not palindrom\")"
   ]
  },
  {
   "cell_type": "markdown",
   "id": "7de88663-3b14-49e9-8bd5-ef8f8dffa632",
   "metadata": {},
   "source": [
    "- we ask the users to string that he want to check string is palindrom or not.\n",
    "- we use the if statements inside this i'll create the condition if string is equal to the reversal of the string then it is a palindrom string else not.\n",
    "- we use the print statements to print the string is palindom or not ."
   ]
  },
  {
   "cell_type": "markdown",
   "id": "56ae80d2-154c-495f-bbac-8ca909724799",
   "metadata": {},
   "source": [
    "\n",
    "### 17. Write a program that calculates the average of a list of numbers, excluding the smallest and largest values.\n"
   ]
  },
  {
   "cell_type": "code",
   "execution_count": 21,
   "id": "9a55286b-5f94-4b95-96b5-5538209ba5f7",
   "metadata": {},
   "outputs": [
    {
     "name": "stdout",
     "output_type": "stream",
     "text": [
      "Average of the list is: 4.625\n"
     ]
    }
   ],
   "source": [
    "def average_list(lst):\n",
    "    return sum(lst)/len(lst)\n",
    "\n",
    "lst =[1,2,3,4,5,6,7,9]\n",
    "\n",
    "average = average_list(lst)\n",
    "\n",
    "print(\"Average of the list is:\",average)"
   ]
  },
  {
   "cell_type": "markdown",
   "id": "a5adfad1-2215-45f5-89ea-40fafe046340",
   "metadata": {},
   "source": [
    "- first we create the function ,function name is average_list that is takse one arguments name lst.\n",
    "- we use the sum() function to calculate the sum of lst and ,use the len() function to find the how many elemnets inside the list .\n",
    "- we create the list that we want to find of averga of the list .\n",
    "- we use the print statements to print the averga of the list.\n"
   ]
  },
  {
   "cell_type": "markdown",
   "id": "2e0adf60-dfe2-423d-99b1-fdf08b320760",
   "metadata": {},
   "source": [
    "### 18. Develop a program that converts a given temperature from Celsius to Fahrenheit.\n"
   ]
  },
  {
   "cell_type": "code",
   "execution_count": 24,
   "id": "1b96e35a-16a1-41d9-9177-877fef96e908",
   "metadata": {},
   "outputs": [
    {
     "name": "stdin",
     "output_type": "stream",
     "text": [
      "enter the celsius value: 12.255\n"
     ]
    },
    {
     "name": "stdout",
     "output_type": "stream",
     "text": [
      "fehrenheit value is: 54.059\n"
     ]
    }
   ],
   "source": [
    "celsius=float(input(\"enter the celsius value:\"))\n",
    "Fehrenheit=(celsius*1.8)+32\n",
    "\n",
    "print(\"fehrenheit value is:\",Fehrenheit)"
   ]
  },
  {
   "cell_type": "markdown",
   "id": "f42c246e-a662-4888-b54e-21551b67a8c2",
   "metadata": {},
   "source": [
    "- we ask the celsius value to user that he want to convert into a Fehrenheit.\n",
    "- `Fehrenheit=(celsius*1.8)+32`: we use this function to conver the value of celcius to fehrenheit.\n",
    "- we use the print statements to print the value of fehrenheit."
   ]
  },
  {
   "cell_type": "markdown",
   "id": "864e44a5-586a-4c8f-9417-5c4d4c226f64",
   "metadata": {},
   "source": [
    "### 19. Create a program that simulates a basic calculator for addition, subtraction, multiplication, and division.\n"
   ]
  },
  {
   "cell_type": "code",
   "execution_count": 14,
   "id": "9605939a-b4b5-49fe-b1d4-7c7d6baaaceb",
   "metadata": {},
   "outputs": [
    {
     "name": "stdout",
     "output_type": "stream",
     "text": [
      "select the operation-\n",
      "1-Addition\n",
      "2-Substraction\n",
      "3-Multiplication\n",
      "4-Division\n",
      "\n"
     ]
    },
    {
     "name": "stdin",
     "output_type": "stream",
     "text": [
      "Selection operations from 1,2,3,4: 4\n",
      "enter the first number: 10\n",
      "enter the second number: 2\n"
     ]
    },
    {
     "name": "stdout",
     "output_type": "stream",
     "text": [
      "division of num1 and num2 is: 5.0\n"
     ]
    }
   ],
   "source": [
    "def add(num1,num2):\n",
    "    return num1+num2\n",
    "def sub(num1,num2):\n",
    "    return num1-num2\n",
    "def mult(num1,num2):\n",
    "    return num1*num2\n",
    "    \n",
    "def div(num1,num2):\n",
    "    return(num1/num2)\n",
    "    \n",
    "    \n",
    "print(\"select the operation-\\n\"\\\n",
    "          \"1-Addition\\n\"\\\n",
    "          \"2-Substraction\\n\"\\\n",
    "          \"3-Multiplication\\n\"\\\n",
    "          \"4-Division\\n\")\n",
    "\n",
    "select =int(input(\"Selection operations from 1,2,3,4:\"))\n",
    "\n",
    "num1=int(input(\"enter the first number:\"))\n",
    "num2=int(input(\"enter the second number:\"))\n",
    "\n",
    "if select==1:\n",
    "    print(\"sum of num1 and num2 is:\",add(num1,num2))\n",
    "    \n",
    "    \n",
    "if select==2:\n",
    "    print(\"substraction of num1 and num2 is:\",sub(num1,num2))\n",
    "    \n",
    "    \n",
    "if select==3:\n",
    "    print(\"multiplication of num1 and num2 is:\",mult(num1,num2))\n",
    "    \n",
    "if select==4:\n",
    "    print(\"division of num1 and num2 is:\",div(num1,num2))"
   ]
  },
  {
   "cell_type": "markdown",
   "id": "ceeea074-e82a-4e84-8e4f-0938ba0d1b91",
   "metadata": {},
   "source": [
    "- first we define all the function like add ,multiply, division,substraction,division.\n",
    "- then ask the user to choose the operations like add ,multiply etc..\n",
    "- we ask the user first number and second number .\n",
    "- if user choose the operations equal to 1 then print the sum of num1 and num2.\n",
    "\n",
    "- if user choose the operation equal to 2 then print the substraction of num1 and num2.\n",
    "- if user choose the operation equal to the 3 then print the multiplication of num1 and num2.\n",
    "- if user choose the operation equal to the 4 then print the division of the num1 and num2."
   ]
  },
  {
   "cell_type": "markdown",
   "id": "0bb416ee-d2f4-4605-9246-a9e8b83fecd1",
   "metadata": {},
   "source": [
    "### 20. Write a program that determines the roots of a cubic equation using the Cardano formula."
   ]
  },
  {
   "cell_type": "code",
   "execution_count": 10,
   "id": "e093383b-95c1-410c-bf8c-e62ee5cf6a80",
   "metadata": {},
   "outputs": [
    {
     "name": "stdout",
     "output_type": "stream",
     "text": [
      "ax^3+bx^2+cx+d=0\n"
     ]
    },
    {
     "name": "stdin",
     "output_type": "stream",
     "text": [
      " 4 5 7 5\n"
     ]
    },
    {
     "name": "stdout",
     "output_type": "stream",
     "text": [
      "{(-0.8781439343756468+5.551115123125783e-17j), (-0.18592803281217654+1.1785107628383271j), (-0.1859280328121767-1.1785107628383271j)}\n"
     ]
    }
   ],
   "source": [
    "from cmath import *\n",
    "\n",
    "solutions = set()\n",
    "\n",
    "\n",
    "def cbrt(polynomial):\n",
    "    solution = set()\n",
    "    root1 = polynomial ** (1 / 3)\n",
    "    root2 = (polynomial ** (1 / 3)) * (-1 / 2 + (sqrt(3) * 1j) / 2)\n",
    "    root3 = (polynomial ** (1 / 3)) * (-1 / 2 - (sqrt(3) * 1j) / 2)\n",
    "    solution.update({root1, root2, root3})\n",
    "    return solution\n",
    "\n",
    "\n",
    "print('ax^3+bx^2+cx+d=0')\n",
    "a, b, c, d = map(complex, input().split())\n",
    "\n",
    "if a != 0:\n",
    "    p = (3 * a * c - b ** 2) / (3 * a ** 2)\n",
    "    q = (2 * b ** 3 - 9 * a * b * c + 27 * a ** 2 * d) / (27 * a ** 3)\n",
    "    alpha = cbrt(-q / 2 + sqrt((q / 2) ** 2 + (p / 3) ** 3))\n",
    "    beta = cbrt(-q / 2 - sqrt((q / 2) ** 2 + (p / 3) ** 3))\n",
    "    for i in alpha:\n",
    "        for j in beta:\n",
    "            if abs((i * j) + p / 3) <= 0.00001:\n",
    "                x = i + j - b / (3 * a)\n",
    "                solutions.add(x)\n",
    "\n",
    "elif b != 0:\n",
    "    D = c ** 2 - 4 * b * d\n",
    "    solutions.add((-c - sqrt(D)) / 2 * b)\n",
    "    solutions.add((-c + sqrt(D)) / 2 * b)\n",
    "\n",
    "elif c != 0:\n",
    "    solutions.add(-d / c)\n",
    "\n",
    "elif d == 0:\n",
    "    solutions.add(\"True\")\n",
    "\n",
    "else:\n",
    "    solutions.add(\"False\")\n",
    "\n",
    "print(solutions)"
   ]
  },
  {
   "cell_type": "markdown",
   "id": "1fe03413-342f-4687-97d9-69e44dc1bc07",
   "metadata": {},
   "source": [
    "# Advanced Level:\n"
   ]
  },
  {
   "cell_type": "markdown",
   "id": "e59faabe-86d2-410c-a225-8ad2a568c538",
   "metadata": {},
   "source": [
    "### 21. Create a program that calculates the income tax based on the user's income and tax brackets.\n"
   ]
  },
  {
   "cell_type": "code",
   "execution_count": 38,
   "id": "c3c3255d-46bb-4b94-ae16-e7e6d4899bed",
   "metadata": {},
   "outputs": [
    {
     "name": "stdin",
     "output_type": "stream",
     "text": [
      "enter your anual income 500000\n"
     ]
    },
    {
     "name": "stdout",
     "output_type": "stream",
     "text": [
      "tax on your anual income is: -7500.0\n"
     ]
    }
   ],
   "source": [
    "income=int(input('enter your anual income'))\n",
    "\n",
    "if income<=250000:\n",
    "    tax=0\n",
    "    \n",
    "elif income<=500000:\n",
    "    tax=(income-250000*5)/100\n",
    "    \n",
    "elif income<=1000000:\n",
    "    tax=(income-250000*10)/100\n",
    "\n",
    "elif income<=2000000:\n",
    "    tax=(income-250000*10)/100\n",
    "    \n",
    "else:\n",
    "    tax=(income-250000*30)/100\n",
    "    \n",
    "print(\"tax on your anual income is:\",tax)"
   ]
  },
  {
   "cell_type": "markdown",
   "id": "f3ac4e39-d20d-431f-bde7-cc5599636f68",
   "metadata": {},
   "source": [
    "- we ask the user anual income if users income is less than 250000 then user does't pay any tax.\n",
    "- if income is grater than 250000 and less than 500000 then user pay 5% tax on the anual income .\n",
    "- if income of user is grater than 1000000 then tax aplys on tha value of (1000000-250000)=7500000 of the total income.\n",
    "- if income of user is grater than 2000000 then tax aplys on tha value of (2000000-250000)=1750000 of the total income.\n",
    "- else aply 30% of the total income."
   ]
  },
  {
   "cell_type": "markdown",
   "id": "c0e8efb0-f73a-4aa4-826a-e2b9a80d0f52",
   "metadata": {},
   "source": [
    "### 22. Write a program that simulates a rock-paper-scissors game against the computer.\n"
   ]
  },
  {
   "cell_type": "code",
   "execution_count": 59,
   "id": "69649ade-6657-411b-ac90-1ef14a282a8d",
   "metadata": {},
   "outputs": [
    {
     "name": "stdin",
     "output_type": "stream",
     "text": [
      "enter your choice ,rock,paper,scissors rock\n"
     ]
    },
    {
     "name": "stdout",
     "output_type": "stream",
     "text": [
      "you chose rock computer_action  paper\n",
      "paper covers rock! you loss !\n"
     ]
    }
   ],
   "source": [
    "import random\n",
    "\n",
    "user_action=input(\"enter your choice ,rock,paper,scissors\")\n",
    "possible_actions=[\"rock\",\"paper\",\"scissors\"]\n",
    "\n",
    "computer_action=random.choice(possible_actions)\n",
    "\n",
    "print(\"you chose\",user_action,\"computer_action \",computer_action)\n",
    "\n",
    "\n",
    "if user_action==computer_action:\n",
    "    print(\"Both playres enterd \",user_action,\"it's Tie!\")\n",
    "    \n",
    "elif user_action==\"rock\":\n",
    "    if computer_action==\"scissors\":\n",
    "        print(\"rocks smashes scissors! you win !\")\n",
    "    else:\n",
    "        print(\"paper covers rock! you loss !\")\n",
    "        \n",
    "elif user_action==\"paper\":\n",
    "    if computer_action==\"rock\":\n",
    "        print(\"paper cover rock! you win !\")\n",
    "        \n",
    "    else:\n",
    "        print(\"scissors cuts the paper ! you loss !\")\n",
    "        \n",
    "elif user_action==\"scissors\":\n",
    "    if computer_action==\"paper\":\n",
    "        print(\"scissors cuts the paper ! you win !\")\n",
    "        \n",
    "    else:\n",
    "        print(\"Rock smashes scissors! You lose !.\")\n",
    "    "
   ]
  },
  {
   "cell_type": "markdown",
   "id": "bdedb114-d822-4aa9-85a4-90076af5a19a",
   "metadata": {},
   "source": [
    "- we import the random function thats computer can enter the random data of `\"rock\"` ,`\"paper\"`,`\"scissors\"`.\n",
    "\n",
    "- if user choice and computer_action is equal to each other then print `Tie`.\n",
    "- if user_action is rock and computer_action is scissors then print you win esle you loss.\n",
    "\n",
    "- if user_action is paper and computer_action is rock then print you win else you loss.\n",
    "\n",
    "- if user_action is scissors and computer_action is paper then you win else you loss."
   ]
  },
  {
   "cell_type": "markdown",
   "id": "6387c2ba-cec7-4160-b443-68ed98499f20",
   "metadata": {},
   "source": [
    "### 23. Develop a program that generates a random password based on user preferences (length, complexity).\n"
   ]
  },
  {
   "cell_type": "code",
   "execution_count": 70,
   "id": "cf9152ed-5c1f-4416-85ab-25d357750739",
   "metadata": {},
   "outputs": [
    {
     "name": "stdout",
     "output_type": "stream",
     "text": [
      "Welcome to our random password genrate\n"
     ]
    },
    {
     "name": "stdin",
     "output_type": "stream",
     "text": [
      "enter the length of the password you want 12\n"
     ]
    },
    {
     "name": "stdout",
     "output_type": "stream",
     "text": [
      "your password is: $(w|]>hLD&?r\n"
     ]
    }
   ],
   "source": [
    "import random\n",
    "import string\n",
    "\n",
    "print(\"Welcome to our random password genrate\")\n",
    "\n",
    "def main():\n",
    "    length= int(input(\"enter the length of the password you want\"))\n",
    "    lowerD=string.ascii_lowercase\n",
    "    upperD=string.ascii_uppercase\n",
    "    digitD=string.digits\n",
    "    symbolD=string.punctuation\n",
    "    \n",
    "    \n",
    "    combine=lowerD+upperD+digitD+symbolD\n",
    "    \n",
    "    x=random.sample(combine,length)\n",
    "    \n",
    "    password=\"\".join(x)\n",
    "    \n",
    "    print(\"your password is:\",password)\n",
    "    \n",
    "main()"
   ]
  },
  {
   "cell_type": "markdown",
   "id": "a627c94e-10c6-4a3f-9188-2d742da3bfe5",
   "metadata": {},
   "source": [
    "- we import the rendom string and randim function.\n",
    "- we show the user to welcome msg.\n",
    "- we define the functton ,function name is main ,function does't take any arguments.\n",
    "- we ask the user length of the passward that you want.\n",
    "- we import the random lowercase ,uppercase ,digits and punctuation with the help of string .\n",
    "- we combine the all lowercase,uppercase,digits and punctuation and store in the variable of x.\n",
    "- we `x=random.sample(combine,length)`:we use this function to return the random passward.\n",
    "- we `password=\"\".join(x)`:use this function to join the all list into simple form .\n",
    "- we use the print statements to print the random password."
   ]
  },
  {
   "cell_type": "markdown",
   "id": "968a30bb-b5f5-46f6-899c-d5563ed5efb9",
   "metadata": {},
   "source": [
    "### 24. Create a program that implements a simple text-based adventure game with branching scenarios.\n"
   ]
  },
  {
   "cell_type": "code",
   "execution_count": 1,
   "id": "97efe633-069f-4b1a-8196-514880dd45b0",
   "metadata": {},
   "outputs": [
    {
     "name": "stdin",
     "output_type": "stream",
     "text": [
      "enter your name avneesh verma\n"
     ]
    },
    {
     "name": "stdout",
     "output_type": "stream",
     "text": [
      "! avneesh verma ! GREETINGS WELCOME TO YOUR IN ADVENTURE GAME\n"
     ]
    },
    {
     "name": "stdin",
     "output_type": "stream",
     "text": [
      "Would you rather play the game or Perish ? play\n",
      "Want to go to the jungle or desert? jungle\n"
     ]
    },
    {
     "name": "stdout",
     "output_type": "stream",
     "text": [
      "!Great! let's play the game\n"
     ]
    }
   ],
   "source": [
    "name =input(\"enter your name\")\n",
    "\n",
    "print(\"!\",name,\"! GREETINGS WELCOME TO YOUR IN ADVENTURE GAME\")\n",
    "\n",
    "start=input(\"Would you rather play the game or Perish ?\")\n",
    "setting=input(\"Want to go to the jungle or desert?\")\n",
    "if start==\"play\":\n",
    "    print(\"!Great! let's play the game\")\n",
    "    \n",
    "else:\n",
    "    print(\"Okay you'r dead now..\")\n",
    "    quit()\n",
    "    \n",
    "    if setting ==\"jungle\":\n",
    "        print(\"Welcome to the mighty amazon rainforest!your tour guide told you to wait here.....\")\n",
    "    response=input(\"But he has been gone a long time ....follow him or wait here?\")\n",
    "    \n",
    "    if response==\"follow\":\n",
    "        print(\"you follow him into the trees\")\n",
    "        \n",
    "    if response==\"wait\":\n",
    "        print(\"you wait another 10 min and he still is'nt here\")\n",
    "    else:\n",
    "        print(\"invalid response! you loss!\")\n",
    "\n",
    "    \n"
   ]
  },
  {
   "cell_type": "markdown",
   "id": "de9144ae-390a-4d4d-8840-6ea5f4b42bbe",
   "metadata": {},
   "source": [
    "- first of all we ask the user name .\n",
    "- we print the welcome msg to the user \"GREETINGS WELCOME TO YOUR IN ADVENTURE GAME.\n",
    "- we ask the user input ratther you play the game or perish ,if user inter play the game then user show case !Great ! let's play the gamez ,else !\"ok you are dead ! now.\n",
    "- if user inter the jungle then user show \"Welcome to the mighty amazon rainforest ! you tour guide told you to wait here.....\n",
    "- we create the responce varible inside this varible we ask the user you !\"follow\"! or !\"Wait\"! , if user inter the follow then print , you follow him into the tree ,if inter the wait then print you wait another 10 min and he still is not here , else print invalid response you loss !."
   ]
  },
  {
   "cell_type": "markdown",
   "id": "9ac7f975-77ac-4cd8-a381-2e9164e26afd",
   "metadata": {},
   "source": [
    "### 25. Build a program that solves a linear equation for x, considering different cases.\n"
   ]
  },
  {
   "cell_type": "code",
   "execution_count": 1,
   "id": "c303fb11-37c4-4d84-864f-fd7f41cfc90f",
   "metadata": {},
   "outputs": [
    {
     "name": "stdout",
     "output_type": "stream",
     "text": [
      "Equation 1:\n",
      "Eq(x + y + z, 1)\n",
      "Equation 2\n",
      "Eq(x - y + 2*z, 1)\n",
      "Equation 3\n",
      "Values of 3 unknown variable are as follows:\n",
      "{x: 0, y: 1/3, z: 2/3}\n"
     ]
    }
   ],
   "source": [
    "# importing library sympy \n",
    "from sympy import symbols, Eq, solve \n",
    "  \n",
    "# defining symbols used in equations \n",
    "# or unknown variables \n",
    "x, y, z = symbols('x,y,z') \n",
    "  \n",
    "# defining equations \n",
    "eq1 = Eq((x+y+z), 1) \n",
    "print(\"Equation 1:\") \n",
    "print(eq1) \n",
    "  \n",
    "eq2 = Eq((x-y+2*z), 1) \n",
    "print(\"Equation 2\") \n",
    "print(eq2) \n",
    "  \n",
    "eq3 = Eq((2*x-y+2*z), 1) \n",
    "print(\"Equation 3\") \n",
    "  \n",
    "# solving the equation and printing the  \n",
    "# value of unknown variables \n",
    "print(\"Values of 3 unknown variable are as follows:\") \n",
    "print(solve((eq1, eq2, eq3), (x, y, z))) "
   ]
  },
  {
   "cell_type": "markdown",
   "id": "c953ed6f-5149-44fe-a5f6-4bcb2d20334e",
   "metadata": {},
   "source": [
    "### 26. Write a program that simulates a basic quiz game with multiple-choice questions and scoring.\n"
   ]
  },
  {
   "cell_type": "code",
   "execution_count": 2,
   "id": "4d6a33fe-4b42-4f45-b50a-f418e664f8a2",
   "metadata": {},
   "outputs": [
    {
     "name": "stdout",
     "output_type": "stream",
     "text": [
      "Wellcome to quiz game !!\n",
      "NOTE: if your spelling is incorrect then it is considered as wrong answer\n"
     ]
    },
    {
     "name": "stdin",
     "output_type": "stream",
     "text": [
      "Do you want to play ?  yes\n",
      "\n",
      "1. what does CPU stand for?  central processing unit\n"
     ]
    },
    {
     "name": "stdout",
     "output_type": "stream",
     "text": [
      "correct! you got 1 point\n"
     ]
    },
    {
     "name": "stdin",
     "output_type": "stream",
     "text": [
      "\n",
      "2. what does GPU stand for?  central processing unit\n"
     ]
    },
    {
     "name": "stdout",
     "output_type": "stream",
     "text": [
      "Incorrect!\n",
      "current answer is --> graphics processing unit\n"
     ]
    },
    {
     "name": "stdin",
     "output_type": "stream",
     "text": [
      "\n",
      "3. what does RAM stand for?  random acess memory\n"
     ]
    },
    {
     "name": "stdout",
     "output_type": "stream",
     "text": [
      "Incorrect!\n",
      "current answer is --> random access memory\n"
     ]
    },
    {
     "name": "stdin",
     "output_type": "stream",
     "text": [
      "\n",
      "4. what does PSU stand for?  power suply unit\n"
     ]
    },
    {
     "name": "stdout",
     "output_type": "stream",
     "text": [
      "Incorrect!\n",
      "current answer is --> power supply unit\n"
     ]
    },
    {
     "name": "stdin",
     "output_type": "stream",
     "text": [
      "\n",
      "5. what does ROM stand for?  read only memory\n"
     ]
    },
    {
     "name": "stdout",
     "output_type": "stream",
     "text": [
      "correct! you got 1 point\n",
      "\n",
      "number of question is 5\n",
      "your score is 2\n",
      "40.0% questions are correct.\n"
     ]
    }
   ],
   "source": [
    "print(\"Wellcome to quiz game !!\")\n",
    "print('NOTE: if your spelling is incorrect then it is considered as wrong answer')\n",
    "score = 0\n",
    "question_no = 0\n",
    "playing = input('Do you want to play ? ').lower()\n",
    "if playing == 'yes':\n",
    "    question_no += 1\n",
    "    ques = input(f'\\n{question_no}. what does CPU stand for? ').lower()\n",
    "    if ques == 'central processing unit':\n",
    "        score +=1\n",
    "        print('correct! you got 1 point')\n",
    "        \n",
    "    else:\n",
    "        print('Incorrect!')\n",
    "        print(f'current answer is --> central processing unit')\n",
    "\n",
    "# ------1\n",
    "    question_no += 1\n",
    "    ques = input(f'\\n{question_no}. what does GPU stand for? ').lower()\n",
    "    \n",
    "    if ques == 'graphics processing unit':\n",
    "        score +=1\n",
    "        print('correct! you got 1 point')\n",
    "        \n",
    "    else:\n",
    "        print('Incorrect!')\n",
    "        print(f'current answer is --> graphics processing unit')\n",
    "\n",
    "# -----2\n",
    "    question_no += 1\n",
    "    ques = input(f'\\n{question_no}. what does RAM stand for? ').lower()\n",
    "    \n",
    "    if ques == 'random access memory':\n",
    "        score +=1\n",
    "        print('correct! you got 1 point')\n",
    "        \n",
    "    else:\n",
    "        print('Incorrect!')\n",
    "        print(f'current answer is --> random access memory')\n",
    "\n",
    "# -----3\n",
    "    question_no += 1\n",
    "    ques = input(f'\\n{question_no}. what does PSU stand for? ').lower()\n",
    "    \n",
    "    if ques == 'power supply unit':\n",
    "        score +=1\n",
    "        print('correct! you got 1 point')\n",
    "        \n",
    "    else:\n",
    "        print('Incorrect!')\n",
    "        print(f'current answer is --> power supply unit')\n",
    "\n",
    "\n",
    "# -----4\n",
    "    question_no += 1\n",
    "    ques = input(f'\\n{question_no}. what does ROM stand for? ').lower()\n",
    "    \n",
    "    if ques == 'read only memory':\n",
    "        score +=1\n",
    "        print('correct! you got 1 point')\n",
    "        \n",
    "    else:\n",
    "        print('Incorrect!')\n",
    "        print(f'current answer is --> read only memory')\n",
    "\n",
    "\n",
    "# ------5 \n",
    "\n",
    "else:\n",
    "    print('thankyou you are out of a game.')\n",
    "    quit()\n",
    "\n",
    "print(f'\\nnumber of question is {question_no}')\n",
    "print(f'your score is {score}')\n",
    "try:\n",
    "    percentage = (score *100)/question_no\n",
    "except ZeroDivisionError:\n",
    "    print('0% quetions are correct')\n",
    "\n",
    "print(f'{percentage}% questions are correct.')"
   ]
  },
  {
   "cell_type": "markdown",
   "id": "a9a69944-206f-45a0-9212-6fa3dd0435f3",
   "metadata": {},
   "source": [
    "### 27. Develop a program that determines whether a given year is a prime number or not.\n"
   ]
  },
  {
   "cell_type": "code",
   "execution_count": 8,
   "id": "abb0cdb5-2067-4cf1-85e4-464356d1508e",
   "metadata": {},
   "outputs": [
    {
     "name": "stdin",
     "output_type": "stream",
     "text": [
      "enter the sun of year 2024\n"
     ]
    },
    {
     "name": "stdout",
     "output_type": "stream",
     "text": [
      "2024 is not a prime number\n"
     ]
    }
   ],
   "source": [
    "num =int(input(\"enter the sun of year\"))\n",
    "\n",
    "# If given number is greater than 1\n",
    "if num > 1:\n",
    "    # Iterate from 2 to n / 2\n",
    "    for i in range(2, int(num/2)+1):\n",
    "        # If num is divisible by any number between\n",
    "        # 2 and n / 2, it is not prime\n",
    "        if (num % i) == 0:\n",
    "            print(num, \"is not a prime number\")\n",
    "            break\n",
    "    else:\n",
    "        print(num, \"is a prime number\")\n",
    "else:\n",
    "    print(num, \"is not a prime number\")"
   ]
  },
  {
   "cell_type": "markdown",
   "id": "3d13c848-ca11-47d9-8627-1034a0122782",
   "metadata": {},
   "source": [
    "### 28. Create a program that sorts three numbers in ascending order using conditional statements.\n"
   ]
  },
  {
   "cell_type": "code",
   "execution_count": 5,
   "id": "9e0f8abe-5a59-448f-bbee-d244ce0db9fa",
   "metadata": {},
   "outputs": [
    {
     "name": "stdin",
     "output_type": "stream",
     "text": [
      "Enter the first number:  1\n",
      "Enter the second number:  4\n",
      "Enter the third number:  2\n"
     ]
    },
    {
     "name": "stdout",
     "output_type": "stream",
     "text": [
      "Sorted numbers in ascending order: 1 2 4\n"
     ]
    }
   ],
   "source": [
    "num1 = int(input(\"Enter the first number: \"))\n",
    "num2 = int(input(\"Enter the second number: \"))\n",
    "num3 = int(input(\"Enter the third number: \"))\n",
    "\n",
    "# Sort the numbers in ascending order\n",
    "if num1 <= num2 and num1 <= num3:\n",
    "    smallest = num1\n",
    "    if num2 <= num3:\n",
    "        middle = num2\n",
    "        largest = num3\n",
    "    else:\n",
    "        middle = num3\n",
    "        largest = num2\n",
    "elif num2 <= num1 and num2 <= num3:\n",
    "    smallest = num2\n",
    "    if num1 <= num3:\n",
    "        middle = num1\n",
    "        largest = num3\n",
    "    else:\n",
    "        middle = num3\n",
    "        largest = num1\n",
    "else:\n",
    "    smallest = num3\n",
    "    if num1 <= num2:\n",
    "        middle = num1\n",
    "        largest = num2\n",
    "    else:\n",
    "        middle = num2\n",
    "        largest = num1\n",
    "\n",
    "# Print the sorted numbers in ascending order\n",
    "print(\"Sorted numbers in ascending order:\", smallest, middle, largest)"
   ]
  },
  {
   "cell_type": "markdown",
   "id": "3add668f-9289-493c-a8f9-fbdb4fa3fa2a",
   "metadata": {},
   "source": [
    "- we ask the three numbers from the user num1,num2 and num3.\n",
    "- we use the multiple if elif and else statements to check the smallest , middle and largest number that given by the user.\n",
    "\n"
   ]
  },
  {
   "cell_type": "markdown",
   "id": "04b509d4-a8c6-4021-9c1e-ba524d506157",
   "metadata": {},
   "source": [
    "### 29. Build a program that determines the roots of a quartic equation using numerical methods.\n"
   ]
  },
  {
   "cell_type": "code",
   "execution_count": 12,
   "id": "8c5b4e95-ab31-4809-9ca3-290793ce6b5b",
   "metadata": {},
   "outputs": [
    {
     "name": "stdout",
     "output_type": "stream",
     "text": [
      "real and different roots\n",
      "2.0\n",
      "-12.0\n"
     ]
    }
   ],
   "source": [
    "# Python program to find roots of quadratic equation\n",
    "import math \n",
    " \n",
    "def equationroots( a, b, c): \n",
    " \n",
    "    # calculating discriminant using formula\n",
    "    dis = b * b - 4 * a * c \n",
    "    sqrt_val = math.sqrt(abs(dis)) \n",
    "     \n",
    "    # checking condition for discriminant\n",
    "    if dis > 0: \n",
    "        print(\"real and different roots\") \n",
    "        print((-b + sqrt_val)/(2 * a)) \n",
    "        print((-b - sqrt_val)/(2 * a)) \n",
    "     \n",
    "    elif dis == 0: \n",
    "        print(\"real and same roots\") \n",
    "        print(-b / (2 * a)) \n",
    "     \n",
    "    # when discriminant is less than 0\n",
    "    else:\n",
    "        print(\"Complex Roots\") \n",
    "        print(- b / (2 * a), + i, sqrt_val) \n",
    "        print(- b / (2 * a), - i, sqrt_val) \n",
    "a = 1\n",
    "b = 10\n",
    "c = -24\n",
    " \n",
    "# If a is 0, then incorrect equation\n",
    "if a == 0: \n",
    "        print(\"Input correct quadratic equation\") \n",
    "else:\n",
    "    equationroots(a, b, c)"
   ]
  },
  {
   "cell_type": "markdown",
   "id": "24bb4ccc-f184-4d60-8410-3481ce6c11a3",
   "metadata": {},
   "source": [
    "### 30. Write a program that calculates the BMI (Body Mass Index) and provides health recommendations based on the user's input."
   ]
  },
  {
   "cell_type": "code",
   "execution_count": 14,
   "id": "4e896cdc-610a-40e5-86db-7653ce12071d",
   "metadata": {},
   "outputs": [
    {
     "name": "stdin",
     "output_type": "stream",
     "text": [
      "inter your height in cm: 150\n",
      "enter your weight in kg: 50\n"
     ]
    },
    {
     "name": "stdout",
     "output_type": "stream",
     "text": [
      "! opps! you are healthy\n"
     ]
    }
   ],
   "source": [
    "the_height=float(input(\"inter your height in cm:\"))\n",
    "the_weight=float(input(\"enter your weight in kg:\"))\n",
    "\n",
    "BMI=the_weight/(the_height/100)**2\n",
    "\n",
    "if BMI<=18.5:\n",
    "    print(\" !opps! you are under weight\")\n",
    "    \n",
    "elif BMI<=24.5:\n",
    "    print(\"! opps! you are healthy\")\n",
    "    \n",
    "elif BMI<=29.5:\n",
    "    print(\"!ops you are over weighy\")\n",
    "    \n",
    "else:\n",
    "    print(\"Seesh! You are obese.\")  "
   ]
  },
  {
   "cell_type": "markdown",
   "id": "daafbe06-1f54-4aec-a2b9-baa1acb4b0cd",
   "metadata": {},
   "source": [
    "- we ask the user height and the user weight ,height in cm and the weight in kg,\n",
    "- we write the BMI formula `BMI=the_weight/(the_height/100)**2`.\n",
    "- we use the if statements if BMI is less than and equal to the 18.5 then print !ops! you are under weight.\n",
    "- we use the elif statements if BMI is less than and equal to the 24.5 then print !ops! you are healthy.\n",
    "- we use the another elif statements if BMI is less then or equal to the 29.5 then print !ops! you are the over weight.\n",
    "- else print !Seesh! You are obese."
   ]
  },
  {
   "cell_type": "markdown",
   "id": "40c43192-51d6-4da1-80cf-6cfa5330bbfa",
   "metadata": {},
   "source": [
    "# Challenge Level:\n"
   ]
  },
  {
   "cell_type": "markdown",
   "id": "b8d364ce-8878-4914-8172-fe5d48d36508",
   "metadata": {},
   "source": [
    "### 31. Create a program that validates a password based on complexity rules (length, characters, etc.).\n"
   ]
  },
  {
   "cell_type": "code",
   "execution_count": 10,
   "id": "ea4c6f30-1506-4e32-9851-b22f97142e05",
   "metadata": {},
   "outputs": [
    {
     "name": "stdin",
     "output_type": "stream",
     "text": [
      "enter your password Sizzy@#2003\n"
     ]
    },
    {
     "name": "stdout",
     "output_type": "stream",
     "text": [
      "your passwor is validate: True\n"
     ]
    }
   ],
   "source": [
    "user_input=input(\"enter your password\")\n",
    "\n",
    "def validate_password(password):\n",
    "    if len(password)<8:\n",
    "        return False\n",
    "    lowerCase=False\n",
    "    upperCase=False\n",
    "    Digit=False\n",
    "    special=False\n",
    "    \n",
    "    \n",
    "    for char in password:\n",
    "        if char.islower():\n",
    "            lowerCase=True\n",
    "        if char.isupper():\n",
    "            upperCase=True\n",
    "            \n",
    "        if char.isdigit():\n",
    "            digit=True\n",
    "            \n",
    "        if char.isalnum():\n",
    "            special=True\n",
    "            \n",
    "    return lowerCase and upperCase and digit and special\n",
    "\n",
    "print(\"your passwor is validate:\",validate_password(user_input))"
   ]
  },
  {
   "cell_type": "markdown",
   "id": "33874128-d19c-4cac-b6f2-af032e850a58",
   "metadata": {},
   "source": [
    "- we ask the user input that he want to check the password is validate or not .\n",
    "- we create the function function name is validate_password and it takes one arguments name password.\n",
    "- we define the length of the password must be grater than 8 characters , if length of the password is lessthan 8 characters then password will be invalid.\n",
    "- if pass in only lowercase , uppercase ,digit and special char then pass false .\n",
    "- we create the for loop iside the if statements inside it i create the multiple conditions to iterate through for loop if these all conditions is full fil inside the password then only password will be True .\n",
    "- we use the return function to return the lowercase ,uppercase,digit and special characters.\n",
    "- we use the print statements to print the password is true or false."
   ]
  },
  {
   "cell_type": "markdown",
   "id": "6ebc9327-60db-4d50-81e1-dad2606e45ba",
   "metadata": {},
   "source": [
    "### 32. Develop a program that performs matrix addition and subtraction based on user input.\n"
   ]
  },
  {
   "cell_type": "code",
   "execution_count": 2,
   "id": "9f080b43-cd45-42b9-a6f3-e787a0f4049e",
   "metadata": {},
   "outputs": [
    {
     "name": "stdin",
     "output_type": "stream",
     "text": [
      "enter the rows 2\n",
      "enter the colums 2\n",
      "enter the value a[i] and a[j] 1\n",
      "enter the value a[i] and a[j] 1\n",
      "enter the value a[i] and a[j] 1\n",
      "enter the value a[i] and a[j] 1\n",
      "enter the value b[i] and a[j] 1\n",
      "enter the value b[i] and a[j] 1\n",
      "enter the value b[i] and a[j] 1\n",
      "enter the value b[i] and a[j] 1\n"
     ]
    },
    {
     "name": "stdout",
     "output_type": "stream",
     "text": [
      "rows: [[1, 1], [1, 1]]\n",
      "columes: [[1, 1], [1, 1]]\n"
     ]
    },
    {
     "name": "stdin",
     "output_type": "stream",
     "text": [
      "chose the operation for the addition is 1 and for sub is 2 2\n"
     ]
    },
    {
     "name": "stdout",
     "output_type": "stream",
     "text": [
      "substraction of the matrix is: [[0, 0], [0, 0]]\n"
     ]
    }
   ],
   "source": [
    "r=int(input(\"enter the rows\"))\n",
    "c=int(input(\"enter the colums\"))\n",
    "a=[]\n",
    "\n",
    "for i in range(r):\n",
    "    t=[]\n",
    "    for j in range(c):\n",
    "        value = int(input(\"enter the value a[i] and a[j]\"))\n",
    "        t.append(value)\n",
    "    a.append(t)\n",
    "    \n",
    "    \n",
    "b=[]  \n",
    "for i in range(r):\n",
    "    t=[]\n",
    "    for j in range(c):\n",
    "        value = int(input(\"enter the value b[i] and a[j]\"))\n",
    "        t.append(value)\n",
    "    b.append(t)\n",
    "\n",
    "    \n",
    "    \n",
    "    \n",
    "sum=[]  \n",
    "for i in range(r):\n",
    "    t=[]\n",
    "    for j in range(c):\n",
    "     \n",
    "        value=a[i][j]+b[i][j]\n",
    "        t.append(value)\n",
    "    sum.append(t)\n",
    "    \n",
    "    \n",
    "print(\"rows:\",a)\n",
    "print(\"columes:\",b)\n",
    "\n",
    "operation=int(input(\"chose the operation for the addition is 1 and for sub is 2\"))\n",
    "if operation==1:\n",
    "    print(\"sum of the matrix is:\",sum)\n",
    "    \n",
    "\n",
    "    \n",
    "sub=[]  \n",
    "for i in range(r):\n",
    "    t=[]\n",
    "    for j in range(c):\n",
    "        value=a[i][j]-b[i][j]\n",
    "        t.append(value)\n",
    "    sub.append(t)\n",
    "    \n",
    "if operation==2:\n",
    "    print(\"substraction of the matrix is:\",sub)\n",
    "    \n"
   ]
  },
  {
   "cell_type": "markdown",
   "id": "ccd85cd7-f9ea-4a00-ab43-c8346bb0c8b3",
   "metadata": {},
   "source": [
    "### 33. Write a program that calculates the greatest common divisor (GCD) of two numbers using the Euclidean algorithm.\n",
    "\n"
   ]
  },
  {
   "cell_type": "code",
   "execution_count": 14,
   "id": "7be5264a-6e93-4c84-a467-7635b3b289c1",
   "metadata": {},
   "outputs": [
    {
     "name": "stdout",
     "output_type": "stream",
     "text": [
      "The gcd of 60 and 48 is : 12\n"
     ]
    }
   ],
   "source": [
    "def hcf(a, b):\n",
    "    if(b == 0):\n",
    "        return a\n",
    "    else:\n",
    "        return hcf(b, a % b)\n",
    "a = 60\n",
    "b = 48\n",
    " \n",
    "# prints 12\n",
    "print(\"The gcd of 60 and 48 is : \", end=\"\")\n",
    "print(hcf(60, 48))"
   ]
  },
  {
   "cell_type": "markdown",
   "id": "69e041b2-129f-4c7a-abe7-1e8fd7becfb4",
   "metadata": {},
   "source": [
    "### 34. Build a program that performs matrix multiplication using nested loops and conditional statements.\n"
   ]
  },
  {
   "cell_type": "code",
   "execution_count": 3,
   "id": "36d7101f-27da-4632-851d-f749bb2ece91",
   "metadata": {},
   "outputs": [
    {
     "name": "stdin",
     "output_type": "stream",
     "text": [
      "enter the rows 2\n",
      "enter the colums 2\n",
      "enter the value a[i] and a[j] 4\n",
      "enter the value a[i] and a[j] 4\n",
      "enter the value a[i] and a[j] 4\n",
      "enter the value a[i] and a[j] 4\n",
      "enter the value b[i] and a[j] 4\n",
      "enter the value b[i] and a[j] 4\n",
      "enter the value b[i] and a[j] 4\n",
      "enter the value b[i] and a[j] 4\n"
     ]
    },
    {
     "name": "stdout",
     "output_type": "stream",
     "text": [
      "rows: [[4, 4], [4, 4]]\n",
      "columes: [[4, 4], [4, 4]]\n",
      "multiplication of the of the matrix is: [[16, 16], [16, 16]]\n"
     ]
    }
   ],
   "source": [
    "r=int(input(\"enter the rows\"))\n",
    "c=int(input(\"enter the colums\"))\n",
    "a=[]\n",
    "\n",
    "for i in range(r):\n",
    "    t=[]\n",
    "    for j in range(c):\n",
    "        value = int(input(\"enter the value a[i] and a[j]\"))\n",
    "        t.append(value)\n",
    "    a.append(t)\n",
    "    \n",
    "    \n",
    "b=[]  \n",
    "for i in range(r):\n",
    "    t=[]\n",
    "    for j in range(c):\n",
    "        value = int(input(\"enter the value b[i] and a[j]\"))\n",
    "        t.append(value)\n",
    "    b.append(t)\n",
    "\n",
    "    \n",
    "    \n",
    "    \n",
    "sum=[]  \n",
    "for i in range(r):\n",
    "    t=[]\n",
    "    for j in range(c):\n",
    "     \n",
    "        value=a[i][j]*b[i][j]\n",
    "        t.append(value)\n",
    "    sum.append(t)\n",
    "    \n",
    "    \n",
    "print(\"rows:\",a)\n",
    "print(\"columes:\",b)\n",
    "\n",
    "\n",
    "print(\"multiplication of the of the matrix is:\",sum)\n",
    "    \n",
    "\n"
   ]
  },
  {
   "cell_type": "markdown",
   "id": "410be725-fc2b-4a25-b579-c1727080a52a",
   "metadata": {},
   "source": [
    "### 35. Create a program that simulates a basic text-based tic-tac-toe game against the computer.\n"
   ]
  },
  {
   "cell_type": "code",
   "execution_count": 17,
   "id": "84acfdda-a37a-47e5-a037-d4f7497e7b67",
   "metadata": {},
   "outputs": [
    {
     "name": "stdout",
     "output_type": "stream",
     "text": [
      "Player 1\n"
     ]
    },
    {
     "name": "stdin",
     "output_type": "stream",
     "text": [
      "Enter the name :  avneesh kumar\n"
     ]
    },
    {
     "name": "stdout",
     "output_type": "stream",
     "text": [
      "\n",
      "\n",
      "Player 2\n"
     ]
    },
    {
     "name": "stdin",
     "output_type": "stream",
     "text": [
      "Enter the name :  Rahul kumar\n"
     ]
    },
    {
     "name": "stdout",
     "output_type": "stream",
     "text": [
      "\n",
      "\n",
      "\t--------------------------------\n",
      "\t              SCOREBOARD       \n",
      "\t--------------------------------\n",
      "\t    avneesh kumar \t     0\n",
      "\t    Rahul kumar \t     0\n",
      "\t--------------------------------\n",
      "\n",
      "Turn to choose for avneesh kumar\n",
      "Enter 1 for X\n",
      "Enter 2 for O\n",
      "Enter 3 to Quit\n"
     ]
    },
    {
     "name": "stdin",
     "output_type": "stream",
     "text": [
      " 2\n"
     ]
    },
    {
     "name": "stdout",
     "output_type": "stream",
     "text": [
      "\n",
      "\n",
      "\t     |     |\n",
      "\t     |     |   \n",
      "\t_____|_____|_____\n",
      "\t     |     |\n",
      "\t     |     |   \n",
      "\t_____|_____|_____\n",
      "\t     |     |\n",
      "\t     |     |   \n",
      "\t     |     |\n",
      "\n",
      "\n",
      "Player  O  turn. Which box? : "
     ]
    },
    {
     "name": "stdin",
     "output_type": "stream",
     "text": [
      " 1\n"
     ]
    },
    {
     "name": "stdout",
     "output_type": "stream",
     "text": [
      "\n",
      "\n",
      "\t     |     |\n",
      "\t  O  |     |   \n",
      "\t_____|_____|_____\n",
      "\t     |     |\n",
      "\t     |     |   \n",
      "\t_____|_____|_____\n",
      "\t     |     |\n",
      "\t     |     |   \n",
      "\t     |     |\n",
      "\n",
      "\n",
      "Player  X  turn. Which box? : "
     ]
    },
    {
     "name": "stdin",
     "output_type": "stream",
     "text": [
      " 2\n"
     ]
    },
    {
     "name": "stdout",
     "output_type": "stream",
     "text": [
      "\n",
      "\n",
      "\t     |     |\n",
      "\t  O  |  X  |   \n",
      "\t_____|_____|_____\n",
      "\t     |     |\n",
      "\t     |     |   \n",
      "\t_____|_____|_____\n",
      "\t     |     |\n",
      "\t     |     |   \n",
      "\t     |     |\n",
      "\n",
      "\n",
      "Player  O  turn. Which box? : "
     ]
    },
    {
     "name": "stdin",
     "output_type": "stream",
     "text": [
      " 5\n"
     ]
    },
    {
     "name": "stdout",
     "output_type": "stream",
     "text": [
      "\n",
      "\n",
      "\t     |     |\n",
      "\t  O  |  X  |   \n",
      "\t_____|_____|_____\n",
      "\t     |     |\n",
      "\t     |  O  |   \n",
      "\t_____|_____|_____\n",
      "\t     |     |\n",
      "\t     |     |   \n",
      "\t     |     |\n",
      "\n",
      "\n",
      "Player  X  turn. Which box? : "
     ]
    },
    {
     "name": "stdin",
     "output_type": "stream",
     "text": [
      " 6\n"
     ]
    },
    {
     "name": "stdout",
     "output_type": "stream",
     "text": [
      "\n",
      "\n",
      "\t     |     |\n",
      "\t  O  |  X  |   \n",
      "\t_____|_____|_____\n",
      "\t     |     |\n",
      "\t     |  O  |  X\n",
      "\t_____|_____|_____\n",
      "\t     |     |\n",
      "\t     |     |   \n",
      "\t     |     |\n",
      "\n",
      "\n",
      "Player  O  turn. Which box? : "
     ]
    },
    {
     "name": "stdin",
     "output_type": "stream",
     "text": [
      " 9\n"
     ]
    },
    {
     "name": "stdout",
     "output_type": "stream",
     "text": [
      "\n",
      "\n",
      "\t     |     |\n",
      "\t  O  |  X  |   \n",
      "\t_____|_____|_____\n",
      "\t     |     |\n",
      "\t     |  O  |  X\n",
      "\t_____|_____|_____\n",
      "\t     |     |\n",
      "\t     |     |  O\n",
      "\t     |     |\n",
      "\n",
      "\n",
      "Player  O  has won the game!!\n",
      "\n",
      "\n",
      "\t--------------------------------\n",
      "\t              SCOREBOARD       \n",
      "\t--------------------------------\n",
      "\t    avneesh kumar \t     1\n",
      "\t    Rahul kumar \t     0\n",
      "\t--------------------------------\n",
      "\n",
      "Turn to choose for Rahul kumar\n",
      "Enter 1 for X\n",
      "Enter 2 for O\n",
      "Enter 3 to Quit\n"
     ]
    },
    {
     "name": "stdin",
     "output_type": "stream",
     "text": [
      " 3\n"
     ]
    },
    {
     "name": "stdout",
     "output_type": "stream",
     "text": [
      "Final Scores\n",
      "\t--------------------------------\n",
      "\t              SCOREBOARD       \n",
      "\t--------------------------------\n",
      "\t    avneesh kumar \t     1\n",
      "\t    Rahul kumar \t     0\n",
      "\t--------------------------------\n",
      "\n"
     ]
    }
   ],
   "source": [
    "# Function to print Tic Tac Toe\n",
    "def print_tic_tac_toe(values):\n",
    "    print(\"\\n\")\n",
    "    print(\"\\t     |     |\")\n",
    "    print(\"\\t  {}  |  {}  |  {}\".format(values[0], values[1], values[2]))\n",
    "    print('\\t_____|_____|_____')\n",
    " \n",
    "    print(\"\\t     |     |\")\n",
    "    print(\"\\t  {}  |  {}  |  {}\".format(values[3], values[4], values[5]))\n",
    "    print('\\t_____|_____|_____')\n",
    " \n",
    "    print(\"\\t     |     |\")\n",
    " \n",
    "    print(\"\\t  {}  |  {}  |  {}\".format(values[6], values[7], values[8]))\n",
    "    print(\"\\t     |     |\")\n",
    "    print(\"\\n\")\n",
    " \n",
    " \n",
    "# Function to print the score-board\n",
    "def print_scoreboard(score_board):\n",
    "    print(\"\\t--------------------------------\")\n",
    "    print(\"\\t              SCOREBOARD       \")\n",
    "    print(\"\\t--------------------------------\")\n",
    " \n",
    "    players = list(score_board.keys())\n",
    "    print(\"\\t   \", players[0], \"\\t    \", score_board[players[0]])\n",
    "    print(\"\\t   \", players[1], \"\\t    \", score_board[players[1]])\n",
    " \n",
    "    print(\"\\t--------------------------------\\n\")\n",
    " \n",
    "# Function to check if any player has won\n",
    "def check_win(player_pos, cur_player):\n",
    " \n",
    "    # All possible winning combinations\n",
    "    soln = [[1, 2, 3], [4, 5, 6], [7, 8, 9], [1, 4, 7], [2, 5, 8], [3, 6, 9], [1, 5, 9], [3, 5, 7]]\n",
    " \n",
    "    # Loop to check if any winning combination is satisfied\n",
    "    for x in soln:\n",
    "        if all(y in player_pos[cur_player] for y in x):\n",
    " \n",
    "            # Return True if any winning combination satisfies\n",
    "            return True\n",
    "    # Return False if no combination is satisfied       \n",
    "    return False       \n",
    " \n",
    "# Function to check if the game is drawn\n",
    "def check_draw(player_pos):\n",
    "    if len(player_pos['X']) + len(player_pos['O']) == 9:\n",
    "        return True\n",
    "    return False       \n",
    " \n",
    "# Function for a single game of Tic Tac Toe\n",
    "def single_game(cur_player):\n",
    " \n",
    "    # Represents the Tic Tac Toe\n",
    "    values = [' ' for x in range(9)]\n",
    "     \n",
    "    # Stores the positions occupied by X and O\n",
    "    player_pos = {'X':[], 'O':[]}\n",
    "     \n",
    "    # Game Loop for a single game of Tic Tac Toe\n",
    "    while True:\n",
    "        print_tic_tac_toe(values)\n",
    "         \n",
    "        # Try exception block for MOVE input\n",
    "        try:\n",
    "            print(\"Player \", cur_player, \" turn. Which box? : \", end=\"\")\n",
    "            move = int(input()) \n",
    "        except ValueError:\n",
    "            print(\"Wrong Input!!! Try Again\")\n",
    "            continue\n",
    " \n",
    "        # Sanity check for MOVE inout\n",
    "        if move < 1 or move > 9:\n",
    "            print(\"Wrong Input!!! Try Again\")\n",
    "            continue\n",
    " \n",
    "        # Check if the box is not occupied already\n",
    "        if values[move-1] != ' ':\n",
    "            print(\"Place already filled. Try again!!\")\n",
    "            continue\n",
    " \n",
    "        # Update game information\n",
    " \n",
    "        # Updating grid status \n",
    "        values[move-1] = cur_player\n",
    " \n",
    "        # Updating player positions\n",
    "        player_pos[cur_player].append(move)\n",
    " \n",
    "        # Function call for checking win\n",
    "        if check_win(player_pos, cur_player):\n",
    "            print_tic_tac_toe(values)\n",
    "            print(\"Player \", cur_player, \" has won the game!!\")     \n",
    "            print(\"\\n\")\n",
    "            return cur_player\n",
    " \n",
    "        # Function call for checking draw game\n",
    "        if check_draw(player_pos):\n",
    "            print_tic_tac_toe(values)\n",
    "            print(\"Game Drawn\")\n",
    "            print(\"\\n\")\n",
    "            return 'D'\n",
    " \n",
    "        # Switch player moves\n",
    "        if cur_player == 'X':\n",
    "            cur_player = 'O'\n",
    "        else:\n",
    "            cur_player = 'X'\n",
    " \n",
    "if __name__ == \"__main__\":\n",
    " \n",
    "    print(\"Player 1\")\n",
    "    player1 = input(\"Enter the name : \")\n",
    "    print(\"\\n\")\n",
    " \n",
    "    print(\"Player 2\")\n",
    "    player2 = input(\"Enter the name : \")\n",
    "    print(\"\\n\")\n",
    "     \n",
    "    # Stores the player who chooses X and O\n",
    "    cur_player = player1\n",
    " \n",
    "    # Stores the choice of players\n",
    "    player_choice = {'X' : \"\", 'O' : \"\"}\n",
    " \n",
    "    # Stores the options\n",
    "    options = ['X', 'O']\n",
    " \n",
    "    # Stores the scoreboard\n",
    "    score_board = {player1: 0, player2: 0}\n",
    "    print_scoreboard(score_board)\n",
    " \n",
    "    # Game Loop for a series of Tic Tac Toe\n",
    "    # The loop runs until the players quit \n",
    "    while True:\n",
    " \n",
    "        # Player choice Menu\n",
    "        print(\"Turn to choose for\", cur_player)\n",
    "        print(\"Enter 1 for X\")\n",
    "        print(\"Enter 2 for O\")\n",
    "        print(\"Enter 3 to Quit\")\n",
    " \n",
    "        # Try exception for CHOICE input\n",
    "        try:\n",
    "            choice = int(input())   \n",
    "        except ValueError:\n",
    "            print(\"Wrong Input!!! Try Again\\n\")\n",
    "            continue\n",
    " \n",
    "        # Conditions for player choice  \n",
    "        if choice == 1:\n",
    "            player_choice['X'] = cur_player\n",
    "            if cur_player == player1:\n",
    "                player_choice['O'] = player2\n",
    "            else:\n",
    "                player_choice['O'] = player1\n",
    " \n",
    "        elif choice == 2:\n",
    "            player_choice['O'] = cur_player\n",
    "            if cur_player == player1:\n",
    "                player_choice['X'] = player2\n",
    "            else:\n",
    "                player_choice['X'] = player1\n",
    "         \n",
    "        elif choice == 3:\n",
    "            print(\"Final Scores\")\n",
    "            print_scoreboard(score_board)\n",
    "            break  \n",
    " \n",
    "        else:\n",
    "            print(\"Wrong Choice!!!! Try Again\\n\")\n",
    " \n",
    "        # Stores the winner in a single game of Tic Tac Toe\n",
    "        winner = single_game(options[choice-1])\n",
    "         \n",
    "        # Edits the scoreboard according to the winner\n",
    "        if winner != 'D' :\n",
    "            player_won = player_choice[winner]\n",
    "            score_board[player_won] = score_board[player_won] + 1\n",
    " \n",
    "        print_scoreboard(score_board)\n",
    "        # Switch player who chooses X or O\n",
    "        if cur_player == player1:\n",
    "            cur_player = player2\n",
    "        else:\n",
    "            cur_player = player1"
   ]
  },
  {
   "cell_type": "markdown",
   "id": "c52bf974-62bc-4426-bd71-c8db8d71f131",
   "metadata": {},
   "source": [
    "### 36. Write a program that generates Fibonacci numbers up to a specified term using iterative methods.\n"
   ]
  },
  {
   "cell_type": "code",
   "execution_count": 19,
   "id": "065867bc-3cc2-4d0e-b98a-9d01fbbe91f4",
   "metadata": {},
   "outputs": [
    {
     "name": "stdout",
     "output_type": "stream",
     "text": [
      "Fibonacci sequence:\n",
      "0\n",
      "1\n",
      "1\n",
      "2\n",
      "3\n",
      "5\n",
      "8\n",
      "13\n",
      "21\n",
      "34\n"
     ]
    }
   ],
   "source": [
    "\n",
    "def recur_fibo(n):\n",
    "    if n <= 1:\n",
    "        return n\n",
    "    else:\n",
    "        return(recur_fibo(n-1) + recur_fibo(n-2))\n",
    "\n",
    "nterms = 10\n",
    "\n",
    "\n",
    "if nterms <= 0:\n",
    "    print(\"Plese enter a positive integer\")\n",
    "else:\n",
    "    print(\"Fibonacci sequence:\")\n",
    "    for i in range(nterms):\n",
    "        print(recur_fibo(i))"
   ]
  },
  {
   "cell_type": "markdown",
   "id": "8bd9294c-0cec-4a0f-ba72-758c867153f9",
   "metadata": {},
   "source": [
    "### 37. Develop a program that calculates the nth term of the Fibonacci sequence using memoization.\n"
   ]
  },
  {
   "cell_type": "code",
   "execution_count": null,
   "id": "c8551fe8-24bd-4053-8121-fc97a4f2d6de",
   "metadata": {},
   "outputs": [],
   "source": []
  },
  {
   "cell_type": "code",
   "execution_count": null,
   "id": "2fc88c25-1f06-4219-87d3-7595630a904d",
   "metadata": {},
   "outputs": [],
   "source": []
  },
  {
   "cell_type": "markdown",
   "id": "8801e141-e122-4ba2-85ab-77fe43a0c2ee",
   "metadata": {},
   "source": [
    "### 38. Create a program that generates a calendar for a given month and year using conditional statements.\n"
   ]
  },
  {
   "cell_type": "code",
   "execution_count": 22,
   "id": "d80abc70-c849-43c8-9de1-0f69ea47cdd7",
   "metadata": {},
   "outputs": [
    {
     "name": "stdout",
     "output_type": "stream",
     "text": [
      "November 2023\n",
      "Mo Tu We Th Fr Sa Su\n",
      "       1  2  3  4  5 \n",
      " 6  7  8  9 10 11 12 \n",
      "13 14 15 16 17 18 19 \n",
      "20 21 22 23 24 25 26 \n",
      "27 28 29 30 \n",
      "\n"
     ]
    }
   ],
   "source": [
    "import calendar\n",
    "from datetime import datetime\n",
    "\n",
    "now = datetime.now()\n",
    "year = now.year\n",
    "month = now.month\n",
    "\n",
    "print(calendar.month_name[month] + \" \" + str(year))\n",
    "print(\"Mo Tu We Th Fr Sa Su\")\n",
    "\n",
    "num_days = calendar.monthrange(year, month)[1]\n",
    "\n",
    "\n",
    "first_day = datetime(year, month, 1).weekday()\n",
    "\n",
    "\n",
    "day = 1\n",
    "for i in range(6):\n",
    "    line = \"\"\n",
    "    for j in range(7):\n",
    "        if i == 0 and j < first_day:\n",
    "            line += \"   \"\n",
    "        elif day > num_days:\n",
    "            break\n",
    "        else:\n",
    "            if day < 10:\n",
    "                line += \" \"\n",
    "            line += str(day) + \" \"\n",
    "            day += 1\n",
    "    print(line)"
   ]
  },
  {
   "cell_type": "markdown",
   "id": "5dc6ee33-da0f-4e24-9591-5ab31e3b9f62",
   "metadata": {},
   "source": [
    "### 39. Build a program that simulates a basic text-based blackjack game against the computer.\n"
   ]
  },
  {
   "cell_type": "code",
   "execution_count": 23,
   "id": "721c50be-acf3-4033-8efe-56092274b61c",
   "metadata": {},
   "outputs": [
    {
     "name": "stdout",
     "output_type": "stream",
     "text": [
      "Cards Player Has: [('2', 'Hearts'), ('5', 'Clubs')]\n",
      "Score Of The Player: 7\n",
      "\n",
      "\n"
     ]
    },
    {
     "name": "stdin",
     "output_type": "stream",
     "text": [
      "What do you want? [\"play\" to request another card, \"stop\" to stop]:  play\n"
     ]
    },
    {
     "name": "stdout",
     "output_type": "stream",
     "text": [
      "Cards Player Has: [('2', 'Hearts'), ('5', 'Clubs'), ('3', 'Clubs')]\n",
      "Score Of The Player: 10\n",
      "\n",
      "\n"
     ]
    },
    {
     "name": "stdin",
     "output_type": "stream",
     "text": [
      "What do you want? [\"play\" to request another card, \"stop\" to stop]:  play\n"
     ]
    },
    {
     "name": "stdout",
     "output_type": "stream",
     "text": [
      "Cards Player Has: [('2', 'Hearts'), ('5', 'Clubs'), ('3', 'Clubs'), ('2', 'Spades')]\n",
      "Score Of The Player: 12\n",
      "\n",
      "\n"
     ]
    },
    {
     "name": "stdin",
     "output_type": "stream",
     "text": [
      "What do you want? [\"play\" to request another card, \"stop\" to stop]:  2\n"
     ]
    },
    {
     "name": "stdout",
     "output_type": "stream",
     "text": [
      "Invalid choice. Please try again.\n",
      "Cards Player Has: [('2', 'Hearts'), ('5', 'Clubs'), ('3', 'Clubs'), ('2', 'Spades')]\n",
      "Score Of The Player: 12\n",
      "\n",
      "\n"
     ]
    },
    {
     "name": "stdin",
     "output_type": "stream",
     "text": [
      "What do you want? [\"play\" to request another card, \"stop\" to stop]:  5\n"
     ]
    },
    {
     "name": "stdout",
     "output_type": "stream",
     "text": [
      "Invalid choice. Please try again.\n",
      "Cards Player Has: [('2', 'Hearts'), ('5', 'Clubs'), ('3', 'Clubs'), ('2', 'Spades')]\n",
      "Score Of The Player: 12\n",
      "\n",
      "\n"
     ]
    },
    {
     "name": "stdin",
     "output_type": "stream",
     "text": [
      "What do you want? [\"play\" to request another card, \"stop\" to stop]:  stop\n"
     ]
    },
    {
     "name": "stdout",
     "output_type": "stream",
     "text": [
      "Cards Dealer Has: [('10', 'Hearts'), ('Ace', 'Hearts')]\n",
      "Score Of The Dealer: 21\n",
      "\n",
      "\n",
      "Cards Dealer Has: [('10', 'Hearts'), ('Ace', 'Hearts')]\n",
      "Score Of The Dealer: 21\n",
      "Cards Player Has: [('2', 'Hearts'), ('5', 'Clubs'), ('3', 'Clubs'), ('2', 'Spades')]\n",
      "Score Of The Player: 12\n",
      "Dealer wins (Dealer Has High Score than Player)\n"
     ]
    }
   ],
   "source": [
    "import random \n",
    "  \n",
    "card_categories = ['Hearts', 'Diamonds', 'Clubs', 'Spades'] \n",
    "cards_list = ['Ace', '2', '3', '4', '5', '6', '7', '8', '9', '10', 'Jack', 'Queen', 'King'] \n",
    "deck = [(card, category) for category in card_categories for card in cards_list] \n",
    "  \n",
    "def card_value(card): \n",
    "    if card[0] in ['Jack', 'Queen', 'King']: \n",
    "        return 10\n",
    "    elif card[0] == 'Ace': \n",
    "        return 11\n",
    "    else: \n",
    "        return int(card[0]) \n",
    "  \n",
    "random.shuffle(deck) \n",
    "player_card = [deck.pop(), deck.pop()] \n",
    "dealer_card = [deck.pop(), deck.pop()] \n",
    "  \n",
    "while True: \n",
    "    player_score = sum(card_value(card) for card in player_card) \n",
    "    dealer_score = sum(card_value(card) for card in dealer_card) \n",
    "    print(\"Cards Player Has:\", player_card) \n",
    "    print(\"Score Of The Player:\", player_score) \n",
    "    print(\"\\n\") \n",
    "    choice = input('What do you want? [\"play\" to request another card, \"stop\" to stop]: ').lower() \n",
    "    if choice == \"play\": \n",
    "        new_card = deck.pop() \n",
    "        player_card.append(new_card) \n",
    "    elif choice == \"stop\": \n",
    "        break\n",
    "    else: \n",
    "        print(\"Invalid choice. Please try again.\") \n",
    "        continue\n",
    "  \n",
    "    if player_score > 21: \n",
    "        print(\"Cards Dealer Has:\", dealer_card) \n",
    "        print(\"Score Of The Dealer:\", dealer_score) \n",
    "        print(\"Cards Player Has:\", player_card) \n",
    "        print(\"Score Of The Player:\", player_score) \n",
    "        print(\"Dealer wins (Player Loss Because Player Score is exceeding 21)\") \n",
    "        break\n",
    "  \n",
    "while dealer_score < 17: \n",
    "    new_card = deck.pop() \n",
    "    dealer_card.append(new_card) \n",
    "    dealer_score += card_value(new_card) \n",
    "  \n",
    "print(\"Cards Dealer Has:\", dealer_card) \n",
    "print(\"Score Of The Dealer:\", dealer_score) \n",
    "print(\"\\n\") \n",
    "  \n",
    "if dealer_score > 21: \n",
    "    print(\"Cards Dealer Has:\", dealer_card) \n",
    "    print(\"Score Of The Dealer:\", dealer_score) \n",
    "    print(\"Cards Player Has:\", player_card) \n",
    "    print(\"Score Of The Player:\", player_score) \n",
    "    print(\"Player wins (Dealer Loss Because Dealer Score is exceeding 21)\") \n",
    "elif player_score > dealer_score: \n",
    "    print(\"Cards Dealer Has:\", dealer_card) \n",
    "    print(\"Score Of The Dealer:\", dealer_score) \n",
    "    print(\"Cards Player Has:\", player_card) \n",
    "    print(\"Score Of The Player:\", player_score) \n",
    "    print(\"Player wins (Player Has High Score than Dealer)\") \n",
    "elif dealer_score > player_score: \n",
    "    print(\"Cards Dealer Has:\", dealer_card) \n",
    "    print(\"Score Of The Dealer:\", dealer_score) \n",
    "    print(\"Cards Player Has:\", player_card) \n",
    "    print(\"Score Of The Player:\", player_score) \n",
    "    print(\"Dealer wins (Dealer Has High Score than Player)\") \n",
    "else: \n",
    "    print(\"Cards Dealer Has:\", dealer_card) \n",
    "    print(\"Score Of The Dealer:\", dealer_score) \n",
    "    print(\"Cards Player Has:\", player_card) \n",
    "    print(\"Score Of The Player:\", player_score) \n",
    "    print(\"It's a tie.\")"
   ]
  },
  {
   "cell_type": "markdown",
   "id": "8af81d4b-5bab-455a-9b54-64fcaa4add1e",
   "metadata": {},
   "source": [
    "### 40. Write a program that generates the prime factors of a given number using trial division."
   ]
  },
  {
   "cell_type": "code",
   "execution_count": 24,
   "id": "ce5c6c0c-ee17-4905-af55-848d08948e0d",
   "metadata": {},
   "outputs": [
    {
     "name": "stdout",
     "output_type": "stream",
     "text": [
      "3 3 5 7 "
     ]
    }
   ],
   "source": [
    "def primeFactors(n):\n",
    "    spf = [0 for i in range(n+1)]\n",
    "    spf[1] = 1\n",
    "    for i in range(2, n+1):\n",
    "        spf[i] = i\n",
    "    for i in range(4, n+1, 2):\n",
    "        spf[i] = 2\n",
    "  \n",
    "    for i in range(3, int(n**0.5)+1):\n",
    "        if spf[i] == i:\n",
    "            for j in range(i*i, n+1, i):\n",
    "                if spf[j] == j:\n",
    "                    spf[j] = i\n",
    "                      \n",
    "    while n != 1:\n",
    "        print(spf[n], end=\" \")\n",
    "        n = n // spf[n]\n",
    "  # example usage\n",
    "n = 315\n",
    "primeFactors(n)"
   ]
  }
 ],
 "metadata": {
  "kernelspec": {
   "display_name": "Python 3 (ipykernel)",
   "language": "python",
   "name": "python3"
  },
  "language_info": {
   "codemirror_mode": {
    "name": "ipython",
    "version": 3
   },
   "file_extension": ".py",
   "mimetype": "text/x-python",
   "name": "python",
   "nbconvert_exporter": "python",
   "pygments_lexer": "ipython3",
   "version": "3.10.8"
  }
 },
 "nbformat": 4,
 "nbformat_minor": 5
}
